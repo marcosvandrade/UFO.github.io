{
 "cells": [
  {
   "cell_type": "markdown",
   "metadata": {},
   "source": [
    "### SPRINT2"
   ]
  },
  {
   "cell_type": "markdown",
   "metadata": {},
   "source": [
    "#### Testar e implementar a extração de dados"
   ]
  },
  {
   "cell_type": "markdown",
   "metadata": {},
   "source": [
    "Exploraremos mais a fundo o Yahoo Finance a fim de realizar mais testes com os dados e atestar a sua confiabilidade e limitações"
   ]
  },
  {
   "cell_type": "code",
   "execution_count": 1,
   "metadata": {},
   "outputs": [],
   "source": [
    "#importando a biblioteca do yahoo finance\n",
    "import yfinance as yf\n",
    "\n",
    "#importando bibliotecas para uso de datas\n",
    "from datetime import datetime, timedelta\n",
    "\n",
    "#importando blibliotecas para exibir gráficos para testes\n",
    "import plotly.graph_objs as go\n",
    "\n",
    "#importando biblioteca para medir o tempo de execução\n",
    "import time\n",
    "\n",
    "#importando biblioteca para trabalhar com dataframes\n",
    "import pandas as pd\n",
    "\n",
    "# Lista de países e intervalos de tempo\n",
    "countries = [\"Brazil\", \"United States\"]\n",
    "intervals = [\"1d\", \"1wk\", \"1mo\"]  # d - dia wk - semana mo - mês\n",
    "\n",
    "#criando uma função para formatar a data\n",
    "def format_date(dt, format=\"%Y-%m-%d\"):\n",
    "    return dt.strftime(format)"
   ]
  },
  {
   "cell_type": "code",
   "execution_count": null,
   "metadata": {},
   "outputs": [],
   "source": [
    "# função que cria um grafo para teste de consulta e tempo de retorno\n",
    "def plotCandleStick(df, acao=\"ticket\"):\n",
    "    trace1 = {\n",
    "        \"x\": df.index,\n",
    "        \"open\": df[\"Open\"],\n",
    "        \"close\": df[\"Close\"],\n",
    "        \"high\": df[\"High\"],\n",
    "        \"low\": df[\"Low\"],\n",
    "        \"type\": \"candlestick\",\n",
    "        \"name\": acao,\n",
    "        \"showlegend\": False,\n",
    "    }\n",
    "\n",
    "    data = [trace1]\n",
    "    layout = go.Layout()\n",
    "\n",
    "    return go.Figure(data=data, layout=layout)"
   ]
  },
  {
   "cell_type": "markdown",
   "metadata": {},
   "source": [
    "Com base na função plotCandleStick apresentada acima e um DataFrame local (df), realizaremos alguns testes:\n",
    "\n",
    "1. Teste de Integridade dos Dados\n",
    "\n",
    "Descrição: Verificar se os dados retornados pela API estão completos e corretos.\n",
    "\n",
    "Implementação:\n",
    "\n",
    "* Simular a captura de dados históricos de uma ação usando a API do Yahoo Finance.\n",
    "\n",
    "* Verificar se todas as colunas esperadas (Open, Close, High, Low, etc.) estão presentes no DataFrame.\n",
    "\n",
    "* Validar se os dados não possuem valores nulos ou incorretos (exemplo: valores negativos ou muito discrepantes)."
   ]
  },
  {
   "cell_type": "code",
   "execution_count": 4,
   "metadata": {},
   "outputs": [
    {
     "name": "stderr",
     "output_type": "stream",
     "text": [
      "[*********************100%%**********************]  1 of 1 completed"
     ]
    },
    {
     "name": "stdout",
     "output_type": "stream",
     "text": [
      "Checagem da integridade dos dados conlcuída.\n"
     ]
    },
    {
     "name": "stderr",
     "output_type": "stream",
     "text": [
      "\n"
     ]
    }
   ],
   "source": [
    "# Criaremos uma função chamada test_integrity  e usaremos a ação da Apple (AAPL)\n",
    "# como exemplo para verificar a integridade dos dados obtidos.\n",
    "def test_integrity(df):\n",
    "    expected_columns = [\"Open\", \"Close\", \"High\", \"Low\"]\n",
    "    for col in expected_columns:\n",
    "        if col not in df.columns:\n",
    "            print(f\"A coluna {col} não está presente no dataframe!\")\n",
    "        elif df[col].isnull().any():\n",
    "            print(f\"A coluna {col} contém valores nulos!\")\n",
    "        elif (df[col] < 0).any():\n",
    "            print(f\"A coluna {col} possui valores negativos!\")\n",
    "    print(\"Checagem da integridade dos dados conlcuída.\")\n",
    "\n",
    "# Exemplo de uso:\n",
    "# Baixando os dados com frequência diária da ação da Apple entre 01/01/2023 e 31/12/2023\n",
    "df = yf.download(\"AAPL\", start=\"2023-01-01\", end=\"2023-12-31\", interval=\"1d\")\n",
    "test_integrity(df)"
   ]
  },
  {
   "cell_type": "markdown",
   "metadata": {},
   "source": [
    "2. Teste de Confiabilidade da API\n",
    "\n",
    "Descrição: Testar a confiabilidade da API em termos de tempo de resposta e consistência dos dados.\n",
    "\n",
    "Implementação:\n",
    "\n",
    "* Realizar múltiplas requisições para a mesma ação e período e comparar os resultados para verificar consistência.\n",
    "\n",
    "* Medir o tempo de resposta para avaliar a performance da API."
   ]
  },
  {
   "cell_type": "code",
   "execution_count": null,
   "metadata": {},
   "outputs": [],
   "source": [
    "import time\n",
    "\n",
    "# Criaremos uma função para testar a confiabilidade dos dados obtidos da API\n",
    "def test_reliability(stock_symbol, start_date, end_date, interval):\n",
    "    start_time = time.time()\n",
    "    \n",
    "    df1 = yf.download(stock_symbol, start=start_date, end=end_date, interval=interval)\n",
    "    df2 = yf.download(stock_symbol, start=start_date, end=end_date, interval=interval)\n",
    "\n",
    "    end_time = time.time()\n",
    "    \n",
    "    if df1.equals(df2):\n",
    "        print(\"Os dados são consistentes através de múltiplas requisições.\")\n",
    "    else:\n",
    "        print(\"Inconsistências foram encontradas nos dados para múltiplas requisições!\")\n",
    "    \n",
    "    print(f\"Tempo levado para a requisição: {end_time - start_time:.2f} seconds\")\n",
    "\n",
    "# Exemplo de uso:\n",
    "# Usando a ação da Apple (AAPL) entre os dias 1 de janeiro de 2023 e\n",
    "# 31 de dezembro de 2023, com intervalo diário (1d)\n",
    "test_reliability(\"AAPL\", \"2023-01-01\", \"2023-12-31\", \"1d\")"
   ]
  },
  {
   "cell_type": "markdown",
   "metadata": {},
   "source": [
    "Utilizaremos a função abaixo para realizar 1000 conexões simultâneas a uma mesma ação"
   ]
  },
  {
   "cell_type": "code",
   "execution_count": 10,
   "metadata": {},
   "outputs": [
    {
     "name": "stdout",
     "output_type": "stream",
     "text": [
      "Requisição 1/1000\n",
      "Requisição 2/1000\n",
      "Requisição 3/1000\n",
      "Requisição 4/1000\n",
      "Requisição 5/1000\n",
      "Requisição 6/1000\n",
      "Requisição 7/1000\n",
      "Requisição 8/1000\n",
      "Requisição 9/1000\n",
      "Requisição 10/1000\n",
      "Requisição 11/1000\n",
      "Requisição 12/1000\n",
      "Requisição 13/1000\n",
      "Requisição 14/1000\n",
      "Requisição 15/1000\n",
      "Requisição 16/1000\n",
      "Requisição 17/1000\n",
      "Requisição 18/1000\n",
      "Requisição 19/1000\n",
      "Requisição 20/1000\n",
      "Requisição 21/1000\n",
      "Requisição 22/1000\n",
      "Requisição 23/1000\n",
      "Requisição 24/1000\n",
      "Requisição 25/1000\n",
      "Requisição 26/1000\n",
      "Requisição 27/1000\n",
      "Requisição 28/1000\n",
      "Requisição 29/1000\n",
      "Requisição 30/1000\n",
      "Requisição 31/1000\n",
      "Requisição 32/1000\n",
      "Requisição 33/1000\n",
      "Requisição 34/1000\n",
      "Requisição 35/1000\n",
      "Requisição 36/1000\n",
      "Requisição 37/1000\n",
      "Requisição 38/1000\n",
      "Requisição 39/1000\n",
      "Requisição 40/1000\n",
      "Requisição 41/1000\n",
      "Requisição 42/1000\n",
      "Requisição 43/1000\n",
      "Requisição 44/1000\n",
      "Requisição 45/1000\n",
      "Requisição 46/1000\n",
      "Requisição 47/1000\n",
      "Requisição 48/1000\n",
      "Requisição 49/1000\n",
      "Requisição 50/1000\n",
      "Requisição 51/1000\n",
      "Requisição 52/1000\n",
      "Requisição 53/1000\n",
      "Requisição 54/1000\n",
      "Requisição 55/1000\n",
      "Requisição 56/1000\n",
      "Requisição 57/1000\n",
      "Requisição 58/1000\n",
      "Requisição 59/1000\n",
      "Requisição 60/1000\n",
      "Requisição 61/1000\n",
      "Requisição 62/1000\n",
      "Requisição 63/1000\n",
      "Requisição 64/1000\n",
      "Requisição 65/1000\n",
      "Requisição 66/1000\n",
      "Requisição 67/1000\n",
      "Requisição 68/1000\n",
      "Requisição 69/1000\n",
      "Requisição 70/1000\n",
      "Requisição 71/1000\n",
      "Requisição 72/1000\n",
      "Requisição 73/1000\n",
      "Requisição 74/1000\n",
      "Requisição 75/1000\n",
      "Requisição 76/1000\n",
      "Requisição 77/1000\n",
      "Requisição 78/1000\n",
      "Requisição 79/1000\n",
      "Requisição 80/1000\n",
      "Requisição 81/1000\n",
      "Requisição 82/1000\n",
      "Requisição 83/1000\n",
      "Requisição 84/1000\n",
      "Requisição 85/1000\n",
      "Requisição 86/1000\n",
      "Requisição 87/1000\n",
      "Requisição 88/1000\n",
      "Requisição 89/1000\n",
      "Requisição 90/1000\n",
      "Requisição 91/1000\n",
      "Requisição 92/1000\n",
      "Requisição 93/1000\n",
      "Requisição 94/1000\n",
      "Requisição 95/1000\n",
      "Requisição 96/1000\n",
      "Requisição 97/1000\n",
      "Requisição 98/1000\n",
      "Requisição 99/1000\n",
      "Requisição 100/1000\n",
      "Requisição 101/1000\n",
      "Requisição 102/1000\n",
      "Requisição 103/1000\n",
      "Requisição 104/1000\n",
      "Requisição 105/1000\n",
      "Requisição 106/1000\n",
      "Requisição 107/1000\n",
      "Requisição 108/1000\n",
      "Requisição 109/1000\n",
      "Requisição 110/1000\n",
      "Requisição 111/1000\n",
      "Requisição 112/1000\n",
      "Requisição 113/1000\n",
      "Requisição 114/1000\n",
      "Requisição 115/1000\n",
      "Requisição 116/1000\n",
      "Requisição 117/1000\n",
      "Requisição 118/1000\n",
      "Requisição 119/1000\n",
      "Requisição 120/1000\n",
      "Requisição 121/1000\n",
      "Requisição 122/1000\n",
      "Requisição 123/1000\n",
      "Requisição 124/1000\n",
      "Requisição 125/1000\n",
      "Requisição 126/1000\n",
      "Requisição 127/1000\n",
      "Requisição 128/1000\n",
      "Requisição 129/1000\n",
      "Requisição 130/1000\n",
      "Requisição 131/1000\n",
      "Requisição 132/1000\n",
      "Requisição 133/1000\n",
      "Requisição 134/1000\n",
      "Requisição 135/1000\n",
      "Requisição 136/1000\n",
      "Requisição 137/1000\n",
      "Requisição 138/1000\n",
      "Requisição 139/1000\n",
      "Requisição 140/1000\n",
      "Requisição 141/1000\n",
      "Requisição 142/1000\n",
      "Requisição 143/1000\n",
      "Requisição 144/1000\n",
      "Requisição 145/1000\n",
      "Requisição 146/1000\n",
      "Requisição 147/1000\n",
      "Requisição 148/1000\n",
      "Requisição 149/1000\n",
      "Requisição 150/1000\n",
      "Requisição 151/1000\n",
      "Requisição 152/1000\n",
      "Requisição 153/1000\n",
      "Requisição 154/1000\n",
      "Requisição 155/1000\n",
      "Requisição 156/1000\n",
      "Requisição 157/1000\n",
      "Requisição 158/1000\n",
      "Requisição 159/1000\n",
      "Requisição 160/1000\n",
      "Requisição 161/1000\n",
      "Requisição 162/1000\n",
      "Requisição 163/1000\n",
      "Requisição 164/1000\n",
      "Requisição 165/1000\n",
      "Requisição 166/1000\n",
      "Requisição 167/1000\n",
      "Requisição 168/1000\n",
      "Requisição 169/1000\n",
      "Requisição 170/1000\n",
      "Requisição 171/1000\n",
      "Requisição 172/1000\n",
      "Requisição 173/1000\n",
      "Requisição 174/1000\n",
      "Requisição 175/1000\n",
      "Requisição 176/1000\n",
      "Requisição 177/1000\n",
      "Requisição 178/1000\n",
      "Requisição 179/1000\n",
      "Requisição 180/1000\n",
      "Requisição 181/1000\n",
      "Requisição 182/1000\n",
      "Requisição 183/1000\n",
      "Requisição 184/1000\n",
      "Requisição 185/1000\n",
      "Requisição 186/1000\n",
      "Requisição 187/1000\n",
      "Requisição 188/1000\n",
      "Requisição 189/1000\n",
      "Requisição 190/1000\n",
      "Requisição 191/1000\n",
      "Requisição 192/1000\n",
      "Requisição 193/1000\n",
      "Requisição 194/1000\n",
      "Requisição 195/1000\n",
      "Requisição 196/1000\n",
      "Requisição 197/1000\n",
      "Requisição 198/1000\n",
      "Requisição 199/1000\n",
      "Requisição 200/1000\n",
      "Requisição 201/1000\n",
      "Requisição 202/1000\n",
      "Requisição 203/1000\n",
      "Requisição 204/1000\n",
      "Requisição 205/1000\n",
      "Requisição 206/1000\n",
      "Requisição 207/1000\n",
      "Requisição 208/1000\n",
      "Requisição 209/1000\n",
      "Requisição 210/1000\n",
      "Requisição 211/1000\n",
      "Requisição 212/1000\n",
      "Requisição 213/1000\n",
      "Requisição 214/1000\n",
      "Requisição 215/1000\n",
      "Requisição 216/1000\n",
      "Requisição 217/1000\n",
      "Requisição 218/1000\n",
      "Requisição 219/1000\n",
      "Requisição 220/1000\n",
      "Requisição 221/1000\n",
      "Requisição 222/1000\n",
      "Requisição 223/1000\n",
      "Requisição 224/1000\n",
      "Requisição 225/1000\n",
      "Requisição 226/1000\n",
      "Requisição 227/1000\n",
      "Requisição 228/1000\n",
      "Requisição 229/1000\n",
      "Requisição 230/1000\n",
      "Requisição 231/1000\n",
      "Requisição 232/1000\n",
      "Requisição 233/1000\n",
      "Requisição 234/1000\n",
      "Requisição 235/1000\n",
      "Requisição 236/1000\n",
      "Requisição 237/1000\n",
      "Requisição 238/1000\n",
      "Requisição 239/1000\n",
      "Requisição 240/1000\n",
      "Requisição 241/1000\n",
      "Requisição 242/1000\n",
      "Requisição 243/1000\n",
      "Requisição 244/1000\n",
      "Requisição 245/1000\n",
      "Requisição 246/1000\n",
      "Requisição 247/1000\n",
      "Requisição 248/1000\n",
      "Requisição 249/1000\n",
      "Requisição 250/1000\n",
      "Requisição 251/1000\n",
      "Requisição 252/1000\n",
      "Requisição 253/1000\n",
      "Requisição 254/1000\n",
      "Requisição 255/1000\n",
      "Requisição 256/1000\n",
      "Requisição 257/1000\n",
      "Requisição 258/1000\n",
      "Requisição 259/1000\n",
      "Requisição 260/1000\n",
      "Requisição 261/1000\n",
      "Requisição 262/1000\n",
      "Requisição 263/1000\n",
      "Requisição 264/1000\n",
      "Requisição 265/1000\n",
      "Requisição 266/1000\n",
      "Requisição 267/1000\n",
      "Requisição 268/1000\n",
      "Requisição 269/1000\n",
      "Requisição 270/1000\n",
      "Requisição 271/1000\n",
      "Requisição 272/1000\n",
      "Requisição 273/1000\n",
      "Requisição 274/1000\n",
      "Requisição 275/1000\n",
      "Requisição 276/1000\n",
      "Requisição 277/1000\n",
      "Requisição 278/1000\n",
      "Requisição 279/1000\n",
      "Requisição 280/1000\n",
      "Requisição 281/1000\n",
      "Requisição 282/1000\n",
      "Requisição 283/1000\n",
      "Requisição 284/1000\n",
      "Requisição 285/1000\n",
      "Requisição 286/1000\n",
      "Requisição 287/1000\n",
      "Requisição 288/1000\n",
      "Requisição 289/1000\n",
      "Requisição 290/1000\n",
      "Requisição 291/1000\n",
      "Requisição 292/1000\n",
      "Requisição 293/1000\n",
      "Requisição 294/1000\n",
      "Requisição 295/1000\n",
      "Requisição 296/1000\n",
      "Requisição 297/1000\n",
      "Requisição 298/1000\n",
      "Requisição 299/1000\n",
      "Requisição 300/1000\n",
      "Requisição 301/1000\n",
      "Requisição 302/1000\n",
      "Requisição 303/1000\n",
      "Requisição 304/1000\n",
      "Requisição 305/1000\n",
      "Requisição 306/1000\n",
      "Requisição 307/1000\n",
      "Requisição 308/1000\n",
      "Requisição 309/1000\n",
      "Requisição 310/1000\n",
      "Requisição 311/1000\n",
      "Requisição 312/1000\n",
      "Requisição 313/1000\n",
      "Requisição 314/1000\n",
      "Requisição 315/1000\n",
      "Requisição 316/1000\n",
      "Requisição 317/1000\n",
      "Requisição 318/1000\n",
      "Requisição 319/1000\n",
      "Requisição 320/1000\n",
      "Requisição 321/1000\n",
      "Requisição 322/1000\n",
      "Requisição 323/1000\n",
      "Requisição 324/1000\n",
      "Requisição 325/1000\n",
      "Requisição 326/1000\n",
      "Requisição 327/1000\n",
      "Requisição 328/1000\n",
      "Requisição 329/1000\n",
      "Requisição 330/1000\n",
      "Requisição 331/1000\n",
      "Requisição 332/1000\n",
      "Requisição 333/1000\n",
      "Requisição 334/1000\n",
      "Requisição 335/1000\n",
      "Requisição 336/1000\n",
      "Requisição 337/1000\n",
      "Requisição 338/1000\n",
      "Requisição 339/1000\n",
      "Requisição 340/1000\n",
      "Requisição 341/1000\n",
      "Requisição 342/1000\n",
      "Requisição 343/1000\n",
      "Requisição 344/1000\n",
      "Requisição 345/1000\n",
      "Requisição 346/1000\n",
      "Requisição 347/1000\n",
      "Requisição 348/1000\n",
      "Requisição 349/1000\n",
      "Requisição 350/1000\n",
      "Requisição 351/1000\n",
      "Requisição 352/1000\n",
      "Requisição 353/1000\n",
      "Requisição 354/1000\n",
      "Requisição 355/1000\n",
      "Requisição 356/1000\n",
      "Requisição 357/1000\n",
      "Requisição 358/1000\n",
      "Requisição 359/1000\n",
      "Requisição 360/1000\n",
      "Requisição 361/1000\n",
      "Requisição 362/1000\n",
      "Requisição 363/1000\n",
      "Requisição 364/1000\n",
      "Requisição 365/1000\n",
      "Requisição 366/1000\n",
      "Requisição 367/1000\n",
      "Requisição 368/1000\n",
      "Requisição 369/1000\n",
      "Requisição 370/1000\n",
      "Requisição 371/1000\n",
      "Requisição 372/1000\n",
      "Requisição 373/1000\n",
      "Requisição 374/1000\n",
      "Requisição 375/1000\n",
      "Requisição 376/1000\n",
      "Requisição 377/1000\n",
      "Requisição 378/1000\n",
      "Requisição 379/1000\n",
      "Requisição 380/1000\n",
      "Requisição 381/1000\n",
      "Requisição 382/1000\n",
      "Requisição 383/1000\n",
      "Requisição 384/1000\n",
      "Requisição 385/1000\n",
      "Requisição 386/1000\n",
      "Requisição 387/1000\n",
      "Requisição 388/1000\n",
      "Requisição 389/1000\n",
      "Requisição 390/1000\n",
      "Requisição 391/1000\n",
      "Requisição 392/1000\n",
      "Requisição 393/1000\n",
      "Requisição 394/1000\n",
      "Requisição 395/1000\n",
      "Requisição 396/1000\n",
      "Requisição 397/1000\n",
      "Requisição 398/1000\n",
      "Requisição 399/1000\n",
      "Requisição 400/1000\n",
      "Requisição 401/1000\n",
      "Requisição 402/1000\n",
      "Requisição 403/1000\n",
      "Requisição 404/1000\n",
      "Requisição 405/1000\n",
      "Requisição 406/1000\n",
      "Requisição 407/1000\n",
      "Requisição 408/1000\n",
      "Requisição 409/1000\n",
      "Requisição 410/1000\n",
      "Requisição 411/1000\n",
      "Requisição 412/1000\n",
      "Requisição 413/1000\n",
      "Requisição 414/1000\n",
      "Requisição 415/1000\n",
      "Requisição 416/1000\n",
      "Requisição 417/1000\n",
      "Requisição 418/1000\n",
      "Requisição 419/1000\n",
      "Requisição 420/1000\n",
      "Requisição 421/1000\n",
      "Requisição 422/1000\n",
      "Requisição 423/1000\n",
      "Requisição 424/1000\n",
      "Requisição 425/1000\n",
      "Requisição 426/1000\n",
      "Requisição 427/1000\n",
      "Requisição 428/1000\n",
      "Requisição 429/1000\n",
      "Requisição 430/1000\n",
      "Requisição 431/1000\n",
      "Requisição 432/1000\n",
      "Requisição 433/1000\n",
      "Requisição 434/1000\n",
      "Requisição 435/1000\n",
      "Requisição 436/1000\n",
      "Requisição 437/1000\n",
      "Requisição 438/1000\n",
      "Requisição 439/1000\n",
      "Requisição 440/1000\n",
      "Requisição 441/1000\n",
      "Requisição 442/1000\n",
      "Requisição 443/1000\n",
      "Requisição 444/1000\n",
      "Requisição 445/1000\n",
      "Requisição 446/1000\n",
      "Requisição 447/1000\n",
      "Requisição 448/1000\n",
      "Requisição 449/1000\n",
      "Requisição 450/1000\n",
      "Requisição 451/1000\n",
      "Requisição 452/1000\n",
      "Requisição 453/1000\n",
      "Requisição 454/1000\n",
      "Requisição 455/1000\n",
      "Requisição 456/1000\n",
      "Requisição 457/1000\n",
      "Requisição 458/1000\n",
      "Requisição 459/1000\n",
      "Requisição 460/1000\n",
      "Requisição 461/1000\n",
      "Requisição 462/1000\n",
      "Requisição 463/1000\n",
      "Requisição 464/1000\n",
      "Requisição 465/1000\n",
      "Requisição 466/1000\n",
      "Requisição 467/1000\n",
      "Requisição 468/1000\n",
      "Requisição 469/1000\n",
      "Requisição 470/1000\n",
      "Requisição 471/1000\n",
      "Requisição 472/1000\n",
      "Requisição 473/1000\n",
      "Requisição 474/1000\n",
      "Requisição 475/1000\n",
      "Requisição 476/1000\n",
      "Requisição 477/1000\n",
      "Requisição 478/1000\n",
      "Requisição 479/1000\n",
      "Requisição 480/1000\n",
      "Requisição 481/1000\n",
      "Requisição 482/1000\n",
      "Requisição 483/1000\n",
      "Requisição 484/1000\n",
      "Requisição 485/1000\n",
      "Requisição 486/1000\n",
      "Requisição 487/1000\n",
      "Requisição 488/1000\n",
      "Requisição 489/1000\n",
      "Requisição 490/1000\n",
      "Requisição 491/1000\n",
      "Requisição 492/1000\n",
      "Requisição 493/1000\n",
      "Requisição 494/1000\n",
      "Requisição 495/1000\n",
      "Requisição 496/1000\n",
      "Requisição 497/1000\n",
      "Requisição 498/1000\n",
      "Requisição 499/1000\n",
      "Requisição 500/1000\n",
      "Requisição 501/1000\n",
      "Requisição 502/1000\n",
      "Requisição 503/1000\n",
      "Requisição 504/1000\n",
      "Requisição 505/1000\n",
      "Requisição 506/1000\n",
      "Requisição 507/1000\n",
      "Requisição 508/1000\n",
      "Requisição 509/1000\n",
      "Requisição 510/1000\n",
      "Requisição 511/1000\n",
      "Requisição 512/1000\n",
      "Requisição 513/1000\n",
      "Requisição 514/1000\n",
      "Requisição 515/1000\n",
      "Requisição 516/1000\n",
      "Requisição 517/1000\n",
      "Requisição 518/1000\n",
      "Requisição 519/1000\n",
      "Requisição 520/1000\n",
      "Requisição 521/1000\n",
      "Requisição 522/1000\n",
      "Requisição 523/1000\n",
      "Requisição 524/1000\n",
      "Requisição 525/1000\n",
      "Requisição 526/1000\n",
      "Requisição 527/1000\n",
      "Requisição 528/1000\n",
      "Requisição 529/1000\n",
      "Requisição 530/1000\n",
      "Requisição 531/1000\n",
      "Requisição 532/1000\n",
      "Requisição 533/1000\n",
      "Requisição 534/1000\n",
      "Requisição 535/1000\n",
      "Requisição 536/1000\n",
      "Requisição 537/1000\n",
      "Requisição 538/1000\n",
      "Requisição 539/1000\n",
      "Requisição 540/1000\n",
      "Requisição 541/1000\n",
      "Requisição 542/1000\n",
      "Requisição 543/1000\n",
      "Requisição 544/1000\n",
      "Requisição 545/1000\n",
      "Requisição 546/1000\n",
      "Requisição 547/1000\n",
      "Requisição 548/1000\n",
      "Requisição 549/1000\n",
      "Requisição 550/1000\n",
      "Requisição 551/1000\n",
      "Requisição 552/1000\n",
      "Requisição 553/1000\n",
      "Requisição 554/1000\n",
      "Requisição 555/1000\n",
      "Requisição 556/1000\n",
      "Requisição 557/1000\n",
      "Requisição 558/1000\n",
      "Requisição 559/1000\n",
      "Requisição 560/1000\n",
      "Requisição 561/1000\n",
      "Requisição 562/1000\n",
      "Requisição 563/1000\n",
      "Requisição 564/1000\n",
      "Requisição 565/1000\n",
      "Requisição 566/1000\n",
      "Requisição 567/1000\n",
      "Requisição 568/1000\n",
      "Requisição 569/1000\n",
      "Requisição 570/1000\n",
      "Requisição 571/1000\n",
      "Requisição 572/1000\n",
      "Requisição 573/1000\n",
      "Requisição 574/1000\n",
      "Requisição 575/1000\n",
      "Requisição 576/1000\n",
      "Requisição 577/1000\n",
      "Requisição 578/1000\n",
      "Requisição 579/1000\n",
      "Requisição 580/1000\n",
      "Requisição 581/1000\n",
      "Requisição 582/1000\n",
      "Requisição 583/1000\n",
      "Requisição 584/1000\n",
      "Requisição 585/1000\n",
      "Requisição 586/1000\n",
      "Requisição 587/1000\n",
      "Requisição 588/1000\n",
      "Requisição 589/1000\n",
      "Requisição 590/1000\n",
      "Requisição 591/1000\n",
      "Requisição 592/1000\n",
      "Requisição 593/1000\n",
      "Requisição 594/1000\n",
      "Requisição 595/1000\n",
      "Requisição 596/1000\n",
      "Requisição 597/1000\n",
      "Requisição 598/1000\n",
      "Requisição 599/1000\n",
      "Requisição 600/1000\n",
      "Requisição 601/1000\n",
      "Requisição 602/1000\n",
      "Requisição 603/1000\n",
      "Requisição 604/1000\n",
      "Requisição 605/1000\n",
      "Requisição 606/1000\n",
      "Requisição 607/1000\n",
      "Requisição 608/1000\n",
      "Requisição 609/1000\n",
      "Requisição 610/1000\n",
      "Requisição 611/1000\n",
      "Requisição 612/1000\n",
      "Requisição 613/1000\n",
      "Requisição 614/1000\n",
      "Requisição 615/1000\n",
      "Requisição 616/1000\n",
      "Requisição 617/1000\n",
      "Requisição 618/1000\n",
      "Requisição 619/1000\n",
      "Requisição 620/1000\n",
      "Requisição 621/1000\n",
      "Requisição 622/1000\n",
      "Requisição 623/1000\n",
      "Requisição 624/1000\n",
      "Requisição 625/1000\n",
      "Requisição 626/1000\n",
      "Requisição 627/1000\n",
      "Requisição 628/1000\n",
      "Requisição 629/1000\n",
      "Requisição 630/1000\n",
      "Requisição 631/1000\n",
      "Requisição 632/1000\n",
      "Requisição 633/1000\n",
      "Requisição 634/1000\n",
      "Requisição 635/1000\n",
      "Requisição 636/1000\n",
      "Requisição 637/1000\n",
      "Requisição 638/1000\n",
      "Requisição 639/1000\n",
      "Requisição 640/1000\n",
      "Requisição 641/1000\n",
      "Requisição 642/1000\n",
      "Requisição 643/1000\n",
      "Requisição 644/1000\n",
      "Requisição 645/1000\n",
      "Requisição 646/1000\n",
      "Requisição 647/1000\n",
      "Requisição 648/1000\n",
      "Requisição 649/1000\n",
      "Requisição 650/1000\n",
      "Requisição 651/1000\n",
      "Requisição 652/1000\n",
      "Requisição 653/1000\n",
      "Requisição 654/1000\n",
      "Requisição 655/1000\n",
      "Requisição 656/1000\n",
      "Requisição 657/1000\n",
      "Requisição 658/1000\n",
      "Requisição 659/1000\n",
      "Requisição 660/1000\n",
      "Requisição 661/1000\n",
      "Requisição 662/1000\n",
      "Requisição 663/1000\n",
      "Requisição 664/1000\n",
      "Requisição 665/1000\n",
      "Requisição 666/1000\n",
      "Requisição 667/1000\n",
      "Requisição 668/1000\n",
      "Requisição 669/1000\n",
      "Requisição 670/1000\n",
      "Requisição 671/1000\n",
      "Requisição 672/1000\n",
      "Requisição 673/1000\n",
      "Requisição 674/1000\n",
      "Requisição 675/1000\n",
      "Requisição 676/1000\n",
      "Requisição 677/1000\n",
      "Requisição 678/1000\n",
      "Requisição 679/1000\n",
      "Requisição 680/1000\n",
      "Requisição 681/1000\n",
      "Requisição 682/1000\n",
      "Requisição 683/1000\n",
      "Requisição 684/1000\n",
      "Requisição 685/1000\n",
      "Requisição 686/1000\n",
      "Requisição 687/1000\n",
      "Requisição 688/1000\n",
      "Requisição 689/1000\n",
      "Requisição 690/1000\n",
      "Requisição 691/1000\n",
      "Requisição 692/1000\n",
      "Requisição 693/1000\n",
      "Requisição 694/1000\n",
      "Requisição 695/1000\n",
      "Requisição 696/1000\n",
      "Requisição 697/1000\n",
      "Requisição 698/1000\n",
      "Requisição 699/1000\n",
      "Requisição 700/1000\n",
      "Requisição 701/1000\n",
      "Requisição 702/1000\n",
      "Requisição 703/1000\n",
      "Requisição 704/1000\n",
      "Requisição 705/1000\n",
      "Requisição 706/1000\n",
      "Requisição 707/1000\n",
      "Requisição 708/1000\n",
      "Requisição 709/1000\n",
      "Requisição 710/1000\n",
      "Requisição 711/1000\n",
      "Requisição 712/1000\n",
      "Requisição 713/1000\n",
      "Requisição 714/1000\n",
      "Requisição 715/1000\n",
      "Requisição 716/1000\n",
      "Requisição 717/1000\n",
      "Requisição 718/1000\n",
      "Requisição 719/1000\n",
      "Requisição 720/1000\n",
      "Requisição 721/1000\n",
      "Requisição 722/1000\n",
      "Requisição 723/1000\n",
      "Requisição 724/1000\n",
      "Requisição 725/1000\n",
      "Requisição 726/1000\n",
      "Requisição 727/1000\n",
      "Requisição 728/1000\n",
      "Requisição 729/1000\n",
      "Requisição 730/1000\n",
      "Requisição 731/1000\n",
      "Requisição 732/1000\n",
      "Requisição 733/1000\n",
      "Requisição 734/1000\n",
      "Requisição 735/1000\n",
      "Requisição 736/1000\n",
      "Requisição 737/1000\n",
      "Requisição 738/1000\n",
      "Requisição 739/1000\n",
      "Requisição 740/1000\n",
      "Requisição 741/1000\n",
      "Requisição 742/1000\n",
      "Requisição 743/1000\n",
      "Requisição 744/1000\n",
      "Requisição 745/1000\n",
      "Requisição 746/1000\n",
      "Requisição 747/1000\n",
      "Requisição 748/1000\n",
      "Requisição 749/1000\n",
      "Requisição 750/1000\n",
      "Requisição 751/1000\n",
      "Requisição 752/1000\n",
      "Requisição 753/1000\n",
      "Requisição 754/1000\n",
      "Requisição 755/1000\n",
      "Requisição 756/1000\n",
      "Requisição 757/1000\n",
      "Requisição 758/1000\n",
      "Requisição 759/1000\n",
      "Requisição 760/1000\n",
      "Requisição 761/1000\n",
      "Requisição 762/1000\n",
      "Requisição 763/1000\n",
      "Requisição 764/1000\n",
      "Requisição 765/1000\n",
      "Requisição 766/1000\n",
      "Requisição 767/1000\n",
      "Requisição 768/1000\n",
      "Requisição 769/1000\n",
      "Requisição 770/1000\n",
      "Requisição 771/1000\n",
      "Requisição 772/1000\n",
      "Requisição 773/1000\n",
      "Requisição 774/1000\n",
      "Requisição 775/1000\n",
      "Requisição 776/1000\n",
      "Requisição 777/1000\n",
      "Requisição 778/1000\n",
      "Requisição 779/1000\n",
      "Requisição 780/1000\n",
      "Requisição 781/1000\n",
      "Requisição 782/1000\n",
      "Requisição 783/1000\n",
      "Requisição 784/1000\n",
      "Requisição 785/1000\n",
      "Requisição 786/1000\n",
      "Requisição 787/1000\n",
      "Requisição 788/1000\n",
      "Requisição 789/1000\n",
      "Requisição 790/1000\n",
      "Requisição 791/1000\n",
      "Requisição 792/1000\n",
      "Requisição 793/1000\n",
      "Requisição 794/1000\n",
      "Requisição 795/1000\n",
      "Requisição 796/1000\n",
      "Requisição 797/1000\n",
      "Requisição 798/1000\n",
      "Requisição 799/1000\n",
      "Requisição 800/1000\n",
      "Requisição 801/1000\n",
      "Requisição 802/1000\n",
      "Requisição 803/1000\n",
      "Requisição 804/1000\n",
      "Requisição 805/1000\n",
      "Requisição 806/1000\n",
      "Requisição 807/1000\n",
      "Requisição 808/1000\n",
      "Requisição 809/1000\n",
      "Requisição 810/1000\n",
      "Requisição 811/1000\n",
      "Requisição 812/1000\n",
      "Requisição 813/1000\n",
      "Requisição 814/1000\n",
      "Requisição 815/1000\n",
      "Requisição 816/1000\n",
      "Requisição 817/1000\n",
      "Requisição 818/1000\n",
      "Requisição 819/1000\n",
      "Requisição 820/1000\n",
      "Requisição 821/1000\n",
      "Requisição 822/1000\n",
      "Requisição 823/1000\n",
      "Requisição 824/1000\n",
      "Requisição 825/1000\n",
      "Requisição 826/1000\n",
      "Requisição 827/1000\n",
      "Requisição 828/1000\n",
      "Requisição 829/1000\n",
      "Requisição 830/1000\n",
      "Requisição 831/1000\n",
      "Requisição 832/1000\n",
      "Requisição 833/1000\n",
      "Requisição 834/1000\n",
      "Requisição 835/1000\n",
      "Requisição 836/1000\n",
      "Requisição 837/1000\n",
      "Requisição 838/1000\n",
      "Requisição 839/1000\n",
      "Requisição 840/1000\n",
      "Requisição 841/1000\n",
      "Requisição 842/1000\n",
      "Requisição 843/1000\n",
      "Requisição 844/1000\n",
      "Requisição 845/1000\n",
      "Requisição 846/1000\n",
      "Requisição 847/1000\n",
      "Requisição 848/1000\n",
      "Requisição 849/1000\n",
      "Requisição 850/1000\n",
      "Requisição 851/1000\n",
      "Requisição 852/1000\n",
      "Requisição 853/1000\n",
      "Requisição 854/1000\n",
      "Requisição 855/1000\n",
      "Requisição 856/1000\n",
      "Requisição 857/1000\n",
      "Requisição 858/1000\n",
      "Requisição 859/1000\n",
      "Requisição 860/1000\n",
      "Requisição 861/1000\n",
      "Requisição 862/1000\n",
      "Requisição 863/1000\n",
      "Requisição 864/1000\n",
      "Requisição 865/1000\n",
      "Requisição 866/1000\n",
      "Requisição 867/1000\n",
      "Requisição 868/1000\n",
      "Requisição 869/1000\n",
      "Requisição 870/1000\n",
      "Requisição 871/1000\n",
      "Requisição 872/1000\n",
      "Requisição 873/1000\n",
      "Requisição 874/1000\n",
      "Requisição 875/1000\n",
      "Requisição 876/1000\n",
      "Requisição 877/1000\n",
      "Requisição 878/1000\n",
      "Requisição 879/1000\n",
      "Requisição 880/1000\n",
      "Requisição 881/1000\n",
      "Requisição 882/1000\n",
      "Requisição 883/1000\n",
      "Requisição 884/1000\n",
      "Requisição 885/1000\n",
      "Requisição 886/1000\n",
      "Requisição 887/1000\n",
      "Requisição 888/1000\n",
      "Requisição 889/1000\n",
      "Requisição 890/1000\n",
      "Requisição 891/1000\n",
      "Requisição 892/1000\n",
      "Requisição 893/1000\n",
      "Requisição 894/1000\n",
      "Requisição 895/1000\n",
      "Requisição 896/1000\n",
      "Requisição 897/1000\n",
      "Requisição 898/1000\n",
      "Requisição 899/1000\n",
      "Requisição 900/1000\n",
      "Requisição 901/1000\n",
      "Requisição 902/1000\n",
      "Requisição 903/1000\n",
      "Requisição 904/1000\n",
      "Requisição 905/1000\n",
      "Requisição 906/1000\n",
      "Requisição 907/1000\n",
      "Requisição 908/1000\n",
      "Requisição 909/1000\n",
      "Requisição 910/1000\n",
      "Requisição 911/1000\n",
      "Requisição 912/1000\n",
      "Requisição 913/1000\n",
      "Requisição 914/1000\n",
      "Requisição 915/1000\n",
      "Requisição 916/1000\n",
      "Requisição 917/1000\n",
      "Requisição 918/1000\n",
      "Requisição 919/1000\n",
      "Requisição 920/1000\n",
      "Requisição 921/1000\n",
      "Requisição 922/1000\n",
      "Requisição 923/1000\n",
      "Requisição 924/1000\n",
      "Requisição 925/1000\n",
      "Requisição 926/1000\n",
      "Requisição 927/1000\n",
      "Requisição 928/1000\n",
      "Requisição 929/1000\n",
      "Requisição 930/1000\n",
      "Requisição 931/1000\n",
      "Requisição 932/1000\n",
      "Requisição 933/1000\n",
      "Requisição 934/1000\n",
      "Requisição 935/1000\n",
      "Requisição 936/1000\n",
      "Requisição 937/1000\n",
      "Requisição 938/1000\n",
      "Requisição 939/1000\n",
      "Requisição 940/1000\n",
      "Requisição 941/1000\n",
      "Requisição 942/1000\n",
      "Requisição 943/1000\n",
      "Requisição 944/1000\n",
      "Requisição 945/1000\n",
      "Requisição 946/1000\n",
      "Requisição 947/1000\n",
      "Requisição 948/1000\n",
      "Requisição 949/1000\n",
      "Requisição 950/1000\n",
      "Requisição 951/1000\n",
      "Requisição 952/1000\n",
      "Requisição 953/1000\n",
      "Requisição 954/1000\n",
      "Requisição 955/1000\n",
      "Requisição 956/1000\n",
      "Requisição 957/1000\n",
      "Requisição 958/1000\n",
      "Requisição 959/1000\n",
      "Requisição 960/1000\n",
      "Requisição 961/1000\n",
      "Requisição 962/1000\n",
      "Requisição 963/1000\n",
      "Requisição 964/1000\n",
      "Requisição 965/1000\n",
      "Requisição 966/1000\n",
      "Requisição 967/1000\n",
      "Requisição 968/1000\n",
      "Requisição 969/1000\n",
      "Requisição 970/1000\n",
      "Requisição 971/1000\n",
      "Requisição 972/1000\n",
      "Requisição 973/1000\n",
      "Requisição 974/1000\n",
      "Requisição 975/1000\n",
      "Requisição 976/1000\n",
      "Requisição 977/1000\n",
      "Requisição 978/1000\n",
      "Requisição 979/1000\n",
      "Requisição 980/1000\n",
      "Requisição 981/1000\n",
      "Requisição 982/1000\n",
      "Requisição 983/1000\n",
      "Requisição 984/1000\n",
      "Requisição 985/1000\n",
      "Requisição 986/1000\n",
      "Requisição 987/1000\n",
      "Requisição 988/1000\n",
      "Requisição 989/1000\n",
      "Requisição 990/1000\n",
      "Requisição 991/1000\n",
      "Requisição 992/1000\n",
      "Requisição 993/1000\n",
      "Requisição 994/1000\n",
      "Requisição 995/1000\n",
      "Requisição 996/1000\n",
      "Requisição 997/1000\n",
      "Requisição 998/1000\n",
      "Requisição 999/1000\n",
      "Requisição 1000/1000\n",
      "Os dados são consistentes através de múltiplas requisições.\n",
      "Tempo total para 1000 requisições: 15.11 segundos\n"
     ]
    }
   ],
   "source": [
    "# Criaremos uma função para testar a confiabilidade dos dados obtidos da API\n",
    "def test_reliability(stock_symbol, start_date, end_date, interval, num_requests=1000):\n",
    "    dfs = []\n",
    "    start_time = time.time()\n",
    "    \n",
    "    for i in range(num_requests):\n",
    "        print(f\"Requisição {i + 1}/{num_requests}\")\n",
    "        df = yf.download(stock_symbol, start=start_date, end=end_date, interval=interval, progress=False)\n",
    "        dfs.append(df)\n",
    "\n",
    "    end_time = time.time()\n",
    "\n",
    "    # Verificando a consistência entre todos os DataFrames\n",
    "    consistent = True\n",
    "    for i in range(1, num_requests):\n",
    "        if not dfs[0].equals(dfs[i]):\n",
    "            print(f\"Inconsistências encontradas entre df1 e df{i+1}!\")\n",
    "            consistent = False\n",
    "\n",
    "    if consistent:\n",
    "        print(\"Os dados são consistentes através de múltiplas requisições.\")\n",
    "    else:\n",
    "        print(\"Inconsistências foram encontradas nos dados para múltiplas requisições!\")\n",
    "    \n",
    "    print(f\"Tempo total para {num_requests} requisições: {end_time - start_time:.2f} segundos\")\n",
    "\n",
    "# Exemplo de uso:\n",
    "# Usando a ação da Apple (AAPL) entre os dias 1 de janeiro de 2023 e 31 de dezembro de 2023, com intervalo diário (1d)\n",
    "test_reliability(\"AAPL\", \"2023-01-01\", \"2023-12-31\", \"1d\")\n"
   ]
  },
  {
   "cell_type": "markdown",
   "metadata": {},
   "source": [
    "3. Teste de Limitações da API\n",
    "\n",
    "Descrição: Verificar as limitações da API em termos de períodos de tempo suportados e granularidade dos dados.\n",
    "\n",
    "Implementação:\n",
    "\n",
    "Tentar capturar dados com intervalos de tempo pequenos (como 1m - 1 minuto) ou longos períodos históricos para ver se a API retorna os dados corretamente ou se há alguma limitação."
   ]
  },
  {
   "cell_type": "code",
   "execution_count": 14,
   "metadata": {},
   "outputs": [
    {
     "name": "stderr",
     "output_type": "stream",
     "text": [
      "[*********************100%%**********************]  1 of 1 completed\n",
      "[*********************100%%**********************]  1 of 1 completed"
     ]
    },
    {
     "name": "stdout",
     "output_type": "stream",
     "text": [
      "Teste 1 - Dados recuperados com sucesso com um intervalo pequeno.\n",
      "                                 Open        High         Low       Close  \\\n",
      "Datetime                                                                    \n",
      "2024-07-30 09:30:00-04:00  219.039993  219.419693  218.660004  218.669998   \n",
      "\n",
      "                            Adj Close   Volume  \n",
      "Datetime                                        \n",
      "2024-07-30 09:30:00-04:00  218.669998  1279103  \n",
      "                                 Open        High         Low       Close  \\\n",
      "Datetime                                                                    \n",
      "2024-07-30 15:59:00-04:00  219.320007  219.337006  218.619995  218.789993   \n",
      "\n",
      "                            Adj Close  Volume  \n",
      "Datetime                                       \n",
      "2024-07-30 15:59:00-04:00  218.789993  892426  \n",
      "Teste 2 - com longo período histórico concluído com sucesso.\n",
      "                Open      High       Low     Close  Adj Close       Volume\n",
      "Date                                                                      \n",
      "2000-01-01  0.936384  1.084821  0.772321  0.926339   0.783176  12555177600\n",
      "                  Open        High         Low       Close   Adj Close  \\\n",
      "Date                                                                     \n",
      "2023-12-01  190.330002  199.619995  187.449997  192.529999  192.024185   \n",
      "\n",
      "                Volume  \n",
      "Date                    \n",
      "2023-12-01  1062774800  \n"
     ]
    },
    {
     "name": "stderr",
     "output_type": "stream",
     "text": [
      "\n"
     ]
    }
   ],
   "source": [
    "def test_api_limits(stock_symbol):  # sourcery skip: extract-duplicate-method\n",
    "    try:\n",
    "        # Teste com um intervalo muito pequeno (1 minuto)\n",
    "        df_min = yf.download(stock_symbol, period=\"1d\", interval=\"1m\")\n",
    "        print(\"Teste 1 - Dados recuperados com sucesso com um intervalo pequeno.\")\n",
    "        print(df_min.head(1))\n",
    "        print(df_min.tail(1))\n",
    "    except Exception as e:\n",
    "        print(f\"Erro no Teste 1 usando um intervalo pequeno: {e}\")\n",
    "\n",
    "    try:\n",
    "        # Teste com um longo período histórico\n",
    "        df_long = yf.download(stock_symbol, start=\"2000-01-01\", end=\"2023-12-31\", interval=\"1mo\")\n",
    "        print(\"Teste 2 - com longo período histórico concluído com sucesso.\")\n",
    "        print(df_long.head(1))\n",
    "        print(df_long.tail(1))\n",
    "    except Exception as e:\n",
    "        print(f\"Error no Teste 2 - usando um período longo: {e}\")\n",
    "\n",
    "# Exemplo de uso:\n",
    "test_api_limits(\"AAPL\")\n"
   ]
  },
  {
   "cell_type": "markdown",
   "metadata": {},
   "source": [
    "4. Teste de exibição da API\n",
    "\n",
    "Descrição: Verificar se a recuperação de dados histórios da Apple podem ser exibidos graficamente.\n",
    "\n",
    "Implementação:\n",
    "\n",
    "Capturar dados históricos para ver se são exibidos corretamente, para utilizaremos\n",
    "como referência o segundo semestre de 2023"
   ]
  },
  {
   "cell_type": "code",
   "execution_count": 16,
   "metadata": {},
   "outputs": [
    {
     "name": "stderr",
     "output_type": "stream",
     "text": [
      "[*********************100%%**********************]  1 of 1 completed\n"
     ]
    },
    {
     "data": {
      "application/vnd.plotly.v1+json": {
       "config": {
        "plotlyServerURL": "https://plot.ly"
       },
       "data": [
        {
         "close": [
          192.4600067138672,
          191.3300018310547,
          191.80999755859375,
          190.67999267578125,
          188.61000061035156,
          188.0800018310547,
          189.77000427246094,
          190.5399932861328,
          190.69000244140625,
          193.99000549316406,
          193.72999572753906,
          195.10000610351562,
          193.1300048828125,
          191.94000244140625,
          192.75,
          193.6199951171875,
          194.5,
          193.22000122070312,
          195.8300018310547,
          196.4499969482422,
          195.61000061035156,
          192.5800018310547,
          191.1699981689453,
          181.99000549316406,
          178.85000610351562,
          179.8000030517578,
          178.19000244140625,
          177.97000122070312,
          177.7899932861328,
          179.4600067138672,
          177.4499969482422,
          176.57000732421875,
          174,
          174.49000549316406,
          175.83999633789062,
          177.22999572753906,
          181.1199951171875,
          176.3800048828125,
          178.61000061035156,
          180.19000244140625,
          184.1199951171875,
          187.64999389648438,
          187.8699951171875,
          189.4600067138672,
          189.6999969482422,
          182.91000366210938,
          177.55999755859375,
          178.17999267578125,
          179.36000061035156,
          176.3000030517578,
          174.2100067138672,
          175.74000549316406,
          175.00999450683594,
          177.97000122070312,
          179.07000732421875,
          175.49000549316406,
          173.92999267578125,
          174.7899932861328,
          176.0800018310547,
          171.9600067138672,
          170.42999267578125,
          170.69000244140625,
          171.2100067138672,
          173.75,
          172.39999389648438,
          173.66000366210938,
          174.91000366210938,
          177.49000549316406,
          178.99000549316406,
          178.38999938964844,
          179.8000030517578,
          180.7100067138672,
          178.85000610351562,
          178.72000122070312,
          177.14999389648438,
          175.83999633789062,
          175.4600067138672,
          172.8800048828125,
          173,
          173.44000244140625,
          171.10000610351562,
          166.88999938964844,
          168.22000122070312,
          170.2899932861328,
          170.77000427246094,
          173.97000122070312,
          177.57000732421875,
          176.64999389648438,
          179.22999572753906,
          181.82000732421875,
          182.88999938964844,
          182.41000366210938,
          186.39999389648438,
          184.8000030517578,
          187.44000244140625,
          188.00999450683594,
          189.7100067138672,
          189.69000244140625,
          191.4499969482422,
          190.63999938964844,
          191.30999755859375,
          189.97000122070312,
          189.7899932861328,
          190.39999389648438,
          189.3699951171875,
          189.9499969482422,
          191.24000549316406,
          189.42999267578125,
          193.4199981689453,
          192.32000732421875,
          194.27000427246094,
          195.7100067138672,
          193.17999267578125,
          194.7100067138672,
          197.9600067138672,
          198.11000061035156,
          197.57000732421875,
          195.88999938964844,
          196.94000244140625,
          194.8300018310547,
          194.67999267578125,
          193.60000610351562,
          193.0500030517578,
          193.14999389648438,
          193.5800018310547,
          192.52999877929688
         ],
         "high": [
          193.8800048828125,
          192.97999572753906,
          192.02000427246094,
          192.6699981689453,
          189.99000549316406,
          189.3000030517578,
          191.6999969482422,
          191.19000244140625,
          191.17999267578125,
          194.32000732421875,
          194.3300018310547,
          198.22999572753906,
          196.47000122070312,
          194.97000122070312,
          194.91000366210938,
          194.44000244140625,
          195.63999938964844,
          197.1999969482422,
          196.6300048828125,
          196.49000549316406,
          196.72999572753906,
          195.17999267578125,
          192.3699951171875,
          187.3800048828125,
          183.1300048828125,
          180.27000427246094,
          180.92999267578125,
          180.75,
          178.6199951171875,
          179.69000244140625,
          179.47999572753906,
          178.5399932861328,
          177.50999450683594,
          175.10000610351562,
          176.1300048828125,
          177.67999267578125,
          181.5500030517578,
          181.10000610351562,
          179.14999389648438,
          180.58999633789062,
          184.89999389648438,
          187.85000610351562,
          189.1199951171875,
          189.9199981689453,
          189.97999572753906,
          188.85000610351562,
          178.2100067138672,
          180.24000549316406,
          180.3000030517578,
          180.1300048828125,
          177.3000030517578,
          176.10000610351562,
          176.5,
          179.3800048828125,
          179.6300048828125,
          179.6999969482422,
          176.3000030517578,
          177.0800018310547,
          176.97000122070312,
          175.1999969482422,
          173.0399932861328,
          172.02999877929688,
          173.07000732421875,
          174.3000030517578,
          173.6300048828125,
          174.2100067138672,
          175.4499969482422,
          177.99000549316406,
          179.0500030517578,
          179.72000122070312,
          179.85000610351562,
          182.33999633789062,
          181.92999267578125,
          179.0800018310547,
          178.4199981689453,
          177.5800018310547,
          177.83999633789062,
          175.4199981689453,
          174.00999450683594,
          173.6699981689453,
          173.05999755859375,
          171.3800048828125,
          168.9600067138672,
          171.1699981689453,
          170.89999389648438,
          174.22999572753906,
          177.77999877929688,
          176.82000732421875,
          179.42999267578125,
          182.44000244140625,
          183.4499969482422,
          184.1199951171875,
          186.57000732421875,
          186.02999877929688,
          188.11000061035156,
          189.5,
          190.9600067138672,
          190.3800048828125,
          191.91000366210938,
          191.52000427246094,
          192.92999267578125,
          190.89999389648438,
          190.6699981689453,
          191.0800018310547,
          192.08999633789062,
          190.32000732421875,
          191.55999755859375,
          190.0500030517578,
          194.39999389648438,
          194.75999450683594,
          195,
          195.99000549316406,
          193.49000549316406,
          194.72000122070312,
          198,
          199.6199951171875,
          198.39999389648438,
          196.6300048828125,
          196.9499969482422,
          197.67999267578125,
          197.0800018310547,
          195.41000366210938,
          193.88999938964844,
          193.5,
          194.66000366210938,
          194.39999389648438
         ],
         "low": [
          191.75999450683594,
          190.6199951171875,
          189.1999969482422,
          190.24000549316406,
          187.0399932861328,
          186.60000610351562,
          188.47000122070312,
          189.77999877929688,
          189.6300048828125,
          191.80999755859375,
          192.4199981689453,
          192.64999389648438,
          192.5,
          191.22999572753906,
          192.25,
          192.9199981689453,
          193.32000732421875,
          192.5500030517578,
          194.13999938964844,
          195.25999450683594,
          195.27999877929688,
          191.85000610351562,
          190.69000244140625,
          181.9199981689453,
          177.35000610351562,
          177.5800018310547,
          177.00999450683594,
          177.60000610351562,
          176.5500030517578,
          177.30999755859375,
          177.0500030517578,
          176.5,
          173.47999572753906,
          171.9600067138672,
          173.74000549316406,
          176.25,
          178.3300018310547,
          176.00999450683594,
          175.82000732421875,
          178.5500030517578,
          179.5,
          184.74000549316406,
          187.47999572753906,
          188.27999877929688,
          187.61000061035156,
          181.47000122070312,
          173.5399932861328,
          177.7899932861328,
          177.33999633789062,
          174.82000732421875,
          173.97999572753906,
          173.5800018310547,
          173.82000732421875,
          176.1699981689453,
          177.1300048828125,
          175.39999389648438,
          173.86000061035156,
          174.0500030517578,
          174.14999389648438,
          171.66000366210938,
          169.0500030517578,
          167.6199951171875,
          170.33999633789062,
          170.92999267578125,
          170.82000732421875,
          170.97000122070312,
          172.67999267578125,
          173.17999267578125,
          175.8000030517578,
          177.9499969482422,
          177.60000610351562,
          179.0399932861328,
          178.13999938964844,
          176.50999450683594,
          174.8000030517578,
          175.11000061035156,
          175.19000244140625,
          172.63999938964844,
          169.92999267578125,
          171.4499969482422,
          170.64999389648438,
          165.6699981689453,
          166.8300018310547,
          168.8699951171875,
          167.89999389648438,
          170.1199951171875,
          175.4600067138672,
          173.35000610351562,
          176.2100067138672,
          178.97000122070312,
          181.58999633789062,
          181.80999755859375,
          183.52999877929688,
          184.2100067138672,
          186.3000030517578,
          187.77999877929688,
          188.64999389648438,
          188.57000732421875,
          189.8800048828125,
          189.74000549316406,
          190.8300018310547,
          189.25,
          188.89999389648438,
          189.39999389648438,
          188.97000122070312,
          188.19000244140625,
          189.22999572753906,
          187.4499969482422,
          190.17999267578125,
          192.11000061035156,
          193.58999633789062,
          193.6699981689453,
          191.4199981689453,
          191.72000122070312,
          194.85000610351562,
          196.16000366210938,
          197,
          194.38999938964844,
          195.88999938964844,
          194.8300018310547,
          193.5,
          192.97000122070312,
          192.8300018310547,
          191.08999633789062,
          193.1699981689453,
          191.72999572753906
         ],
         "name": "AAPL",
         "open": [
          193.77999877929688,
          191.57000732421875,
          189.83999633789062,
          191.41000366210938,
          189.25999450683594,
          189.16000366210938,
          189.67999267578125,
          190.5,
          190.22999572753906,
          191.89999389648438,
          193.35000610351562,
          193.10000610351562,
          195.08999633789062,
          194.10000610351562,
          193.41000366210938,
          193.3300018310547,
          193.6699981689453,
          196.02000427246094,
          194.6699981689453,
          196.05999755859375,
          196.24000549316406,
          195.0399932861328,
          191.57000732421875,
          185.52000427246094,
          182.1300048828125,
          179.69000244140625,
          180.8699951171875,
          179.47999572753906,
          177.32000732421875,
          177.97000122070312,
          178.8800048828125,
          177.1300048828125,
          177.13999938964844,
          172.3000030517578,
          175.07000732421875,
          177.05999755859375,
          178.52000427246094,
          180.6699981689453,
          177.3800048828125,
          180.08999633789062,
          179.6999969482422,
          184.94000244140625,
          187.83999633789062,
          189.49000549316406,
          188.27999877929688,
          188.39999389648438,
          175.17999267578125,
          178.35000610351562,
          180.07000732421875,
          179.49000549316406,
          176.50999450683594,
          174,
          176.47999572753906,
          176.47999572753906,
          177.52000427246094,
          179.25999450683594,
          174.5500030517578,
          174.6699981689453,
          174.1999969482422,
          174.82000732421875,
          172.6199951171875,
          169.33999633789062,
          172.02000427246094,
          171.22000122070312,
          172.25999450683594,
          171.08999633789062,
          173.7899932861328,
          173.8000030517578,
          176.80999755859375,
          178.10000610351562,
          178.1999969482422,
          180.07000732421875,
          181.4199981689453,
          176.75,
          176.64999389648438,
          175.5800018310547,
          176.0399932861328,
          175.30999755859375,
          170.91000366210938,
          173.0500030517578,
          171.8800048828125,
          170.3699951171875,
          166.91000366210938,
          169.02000427246094,
          169.35000610351562,
          171,
          175.52000427246094,
          174.24000549316406,
          176.3800048828125,
          179.17999267578125,
          182.35000610351562,
          182.9600067138672,
          183.97000122070312,
          185.82000732421875,
          187.6999969482422,
          187.85000610351562,
          189.57000732421875,
          190.25,
          189.88999938964844,
          191.41000366210938,
          191.49000549316406,
          190.8699951171875,
          189.9199981689453,
          189.77999877929688,
          190.89999389648438,
          189.83999633789062,
          190.3300018310547,
          189.97999572753906,
          190.2100067138672,
          194.4499969482422,
          193.6300048828125,
          194.1999969482422,
          193.11000061035156,
          193.0800018310547,
          195.08999633789062,
          198.02000427246094,
          197.52999877929688,
          196.08999633789062,
          196.16000366210938,
          196.89999389648438,
          196.10000610351562,
          195.17999267578125,
          193.61000061035156,
          192.49000549316406,
          194.13999938964844,
          193.89999389648438
         ],
         "showlegend": false,
         "type": "candlestick",
         "x": [
          "2023-07-03T00:00:00",
          "2023-07-05T00:00:00",
          "2023-07-06T00:00:00",
          "2023-07-07T00:00:00",
          "2023-07-10T00:00:00",
          "2023-07-11T00:00:00",
          "2023-07-12T00:00:00",
          "2023-07-13T00:00:00",
          "2023-07-14T00:00:00",
          "2023-07-17T00:00:00",
          "2023-07-18T00:00:00",
          "2023-07-19T00:00:00",
          "2023-07-20T00:00:00",
          "2023-07-21T00:00:00",
          "2023-07-24T00:00:00",
          "2023-07-25T00:00:00",
          "2023-07-26T00:00:00",
          "2023-07-27T00:00:00",
          "2023-07-28T00:00:00",
          "2023-07-31T00:00:00",
          "2023-08-01T00:00:00",
          "2023-08-02T00:00:00",
          "2023-08-03T00:00:00",
          "2023-08-04T00:00:00",
          "2023-08-07T00:00:00",
          "2023-08-08T00:00:00",
          "2023-08-09T00:00:00",
          "2023-08-10T00:00:00",
          "2023-08-11T00:00:00",
          "2023-08-14T00:00:00",
          "2023-08-15T00:00:00",
          "2023-08-16T00:00:00",
          "2023-08-17T00:00:00",
          "2023-08-18T00:00:00",
          "2023-08-21T00:00:00",
          "2023-08-22T00:00:00",
          "2023-08-23T00:00:00",
          "2023-08-24T00:00:00",
          "2023-08-25T00:00:00",
          "2023-08-28T00:00:00",
          "2023-08-29T00:00:00",
          "2023-08-30T00:00:00",
          "2023-08-31T00:00:00",
          "2023-09-01T00:00:00",
          "2023-09-05T00:00:00",
          "2023-09-06T00:00:00",
          "2023-09-07T00:00:00",
          "2023-09-08T00:00:00",
          "2023-09-11T00:00:00",
          "2023-09-12T00:00:00",
          "2023-09-13T00:00:00",
          "2023-09-14T00:00:00",
          "2023-09-15T00:00:00",
          "2023-09-18T00:00:00",
          "2023-09-19T00:00:00",
          "2023-09-20T00:00:00",
          "2023-09-21T00:00:00",
          "2023-09-22T00:00:00",
          "2023-09-25T00:00:00",
          "2023-09-26T00:00:00",
          "2023-09-27T00:00:00",
          "2023-09-28T00:00:00",
          "2023-09-29T00:00:00",
          "2023-10-02T00:00:00",
          "2023-10-03T00:00:00",
          "2023-10-04T00:00:00",
          "2023-10-05T00:00:00",
          "2023-10-06T00:00:00",
          "2023-10-09T00:00:00",
          "2023-10-10T00:00:00",
          "2023-10-11T00:00:00",
          "2023-10-12T00:00:00",
          "2023-10-13T00:00:00",
          "2023-10-16T00:00:00",
          "2023-10-17T00:00:00",
          "2023-10-18T00:00:00",
          "2023-10-19T00:00:00",
          "2023-10-20T00:00:00",
          "2023-10-23T00:00:00",
          "2023-10-24T00:00:00",
          "2023-10-25T00:00:00",
          "2023-10-26T00:00:00",
          "2023-10-27T00:00:00",
          "2023-10-30T00:00:00",
          "2023-10-31T00:00:00",
          "2023-11-01T00:00:00",
          "2023-11-02T00:00:00",
          "2023-11-03T00:00:00",
          "2023-11-06T00:00:00",
          "2023-11-07T00:00:00",
          "2023-11-08T00:00:00",
          "2023-11-09T00:00:00",
          "2023-11-10T00:00:00",
          "2023-11-13T00:00:00",
          "2023-11-14T00:00:00",
          "2023-11-15T00:00:00",
          "2023-11-16T00:00:00",
          "2023-11-17T00:00:00",
          "2023-11-20T00:00:00",
          "2023-11-21T00:00:00",
          "2023-11-22T00:00:00",
          "2023-11-24T00:00:00",
          "2023-11-27T00:00:00",
          "2023-11-28T00:00:00",
          "2023-11-29T00:00:00",
          "2023-11-30T00:00:00",
          "2023-12-01T00:00:00",
          "2023-12-04T00:00:00",
          "2023-12-05T00:00:00",
          "2023-12-06T00:00:00",
          "2023-12-07T00:00:00",
          "2023-12-08T00:00:00",
          "2023-12-11T00:00:00",
          "2023-12-12T00:00:00",
          "2023-12-13T00:00:00",
          "2023-12-14T00:00:00",
          "2023-12-15T00:00:00",
          "2023-12-18T00:00:00",
          "2023-12-19T00:00:00",
          "2023-12-20T00:00:00",
          "2023-12-21T00:00:00",
          "2023-12-22T00:00:00",
          "2023-12-26T00:00:00",
          "2023-12-27T00:00:00",
          "2023-12-28T00:00:00",
          "2023-12-29T00:00:00"
         ]
        }
       ],
       "layout": {
        "template": {
         "data": {
          "bar": [
           {
            "error_x": {
             "color": "#2a3f5f"
            },
            "error_y": {
             "color": "#2a3f5f"
            },
            "marker": {
             "line": {
              "color": "#E5ECF6",
              "width": 0.5
             },
             "pattern": {
              "fillmode": "overlay",
              "size": 10,
              "solidity": 0.2
             }
            },
            "type": "bar"
           }
          ],
          "barpolar": [
           {
            "marker": {
             "line": {
              "color": "#E5ECF6",
              "width": 0.5
             },
             "pattern": {
              "fillmode": "overlay",
              "size": 10,
              "solidity": 0.2
             }
            },
            "type": "barpolar"
           }
          ],
          "carpet": [
           {
            "aaxis": {
             "endlinecolor": "#2a3f5f",
             "gridcolor": "white",
             "linecolor": "white",
             "minorgridcolor": "white",
             "startlinecolor": "#2a3f5f"
            },
            "baxis": {
             "endlinecolor": "#2a3f5f",
             "gridcolor": "white",
             "linecolor": "white",
             "minorgridcolor": "white",
             "startlinecolor": "#2a3f5f"
            },
            "type": "carpet"
           }
          ],
          "choropleth": [
           {
            "colorbar": {
             "outlinewidth": 0,
             "ticks": ""
            },
            "type": "choropleth"
           }
          ],
          "contour": [
           {
            "colorbar": {
             "outlinewidth": 0,
             "ticks": ""
            },
            "colorscale": [
             [
              0,
              "#0d0887"
             ],
             [
              0.1111111111111111,
              "#46039f"
             ],
             [
              0.2222222222222222,
              "#7201a8"
             ],
             [
              0.3333333333333333,
              "#9c179e"
             ],
             [
              0.4444444444444444,
              "#bd3786"
             ],
             [
              0.5555555555555556,
              "#d8576b"
             ],
             [
              0.6666666666666666,
              "#ed7953"
             ],
             [
              0.7777777777777778,
              "#fb9f3a"
             ],
             [
              0.8888888888888888,
              "#fdca26"
             ],
             [
              1,
              "#f0f921"
             ]
            ],
            "type": "contour"
           }
          ],
          "contourcarpet": [
           {
            "colorbar": {
             "outlinewidth": 0,
             "ticks": ""
            },
            "type": "contourcarpet"
           }
          ],
          "heatmap": [
           {
            "colorbar": {
             "outlinewidth": 0,
             "ticks": ""
            },
            "colorscale": [
             [
              0,
              "#0d0887"
             ],
             [
              0.1111111111111111,
              "#46039f"
             ],
             [
              0.2222222222222222,
              "#7201a8"
             ],
             [
              0.3333333333333333,
              "#9c179e"
             ],
             [
              0.4444444444444444,
              "#bd3786"
             ],
             [
              0.5555555555555556,
              "#d8576b"
             ],
             [
              0.6666666666666666,
              "#ed7953"
             ],
             [
              0.7777777777777778,
              "#fb9f3a"
             ],
             [
              0.8888888888888888,
              "#fdca26"
             ],
             [
              1,
              "#f0f921"
             ]
            ],
            "type": "heatmap"
           }
          ],
          "heatmapgl": [
           {
            "colorbar": {
             "outlinewidth": 0,
             "ticks": ""
            },
            "colorscale": [
             [
              0,
              "#0d0887"
             ],
             [
              0.1111111111111111,
              "#46039f"
             ],
             [
              0.2222222222222222,
              "#7201a8"
             ],
             [
              0.3333333333333333,
              "#9c179e"
             ],
             [
              0.4444444444444444,
              "#bd3786"
             ],
             [
              0.5555555555555556,
              "#d8576b"
             ],
             [
              0.6666666666666666,
              "#ed7953"
             ],
             [
              0.7777777777777778,
              "#fb9f3a"
             ],
             [
              0.8888888888888888,
              "#fdca26"
             ],
             [
              1,
              "#f0f921"
             ]
            ],
            "type": "heatmapgl"
           }
          ],
          "histogram": [
           {
            "marker": {
             "pattern": {
              "fillmode": "overlay",
              "size": 10,
              "solidity": 0.2
             }
            },
            "type": "histogram"
           }
          ],
          "histogram2d": [
           {
            "colorbar": {
             "outlinewidth": 0,
             "ticks": ""
            },
            "colorscale": [
             [
              0,
              "#0d0887"
             ],
             [
              0.1111111111111111,
              "#46039f"
             ],
             [
              0.2222222222222222,
              "#7201a8"
             ],
             [
              0.3333333333333333,
              "#9c179e"
             ],
             [
              0.4444444444444444,
              "#bd3786"
             ],
             [
              0.5555555555555556,
              "#d8576b"
             ],
             [
              0.6666666666666666,
              "#ed7953"
             ],
             [
              0.7777777777777778,
              "#fb9f3a"
             ],
             [
              0.8888888888888888,
              "#fdca26"
             ],
             [
              1,
              "#f0f921"
             ]
            ],
            "type": "histogram2d"
           }
          ],
          "histogram2dcontour": [
           {
            "colorbar": {
             "outlinewidth": 0,
             "ticks": ""
            },
            "colorscale": [
             [
              0,
              "#0d0887"
             ],
             [
              0.1111111111111111,
              "#46039f"
             ],
             [
              0.2222222222222222,
              "#7201a8"
             ],
             [
              0.3333333333333333,
              "#9c179e"
             ],
             [
              0.4444444444444444,
              "#bd3786"
             ],
             [
              0.5555555555555556,
              "#d8576b"
             ],
             [
              0.6666666666666666,
              "#ed7953"
             ],
             [
              0.7777777777777778,
              "#fb9f3a"
             ],
             [
              0.8888888888888888,
              "#fdca26"
             ],
             [
              1,
              "#f0f921"
             ]
            ],
            "type": "histogram2dcontour"
           }
          ],
          "mesh3d": [
           {
            "colorbar": {
             "outlinewidth": 0,
             "ticks": ""
            },
            "type": "mesh3d"
           }
          ],
          "parcoords": [
           {
            "line": {
             "colorbar": {
              "outlinewidth": 0,
              "ticks": ""
             }
            },
            "type": "parcoords"
           }
          ],
          "pie": [
           {
            "automargin": true,
            "type": "pie"
           }
          ],
          "scatter": [
           {
            "marker": {
             "colorbar": {
              "outlinewidth": 0,
              "ticks": ""
             }
            },
            "type": "scatter"
           }
          ],
          "scatter3d": [
           {
            "line": {
             "colorbar": {
              "outlinewidth": 0,
              "ticks": ""
             }
            },
            "marker": {
             "colorbar": {
              "outlinewidth": 0,
              "ticks": ""
             }
            },
            "type": "scatter3d"
           }
          ],
          "scattercarpet": [
           {
            "marker": {
             "colorbar": {
              "outlinewidth": 0,
              "ticks": ""
             }
            },
            "type": "scattercarpet"
           }
          ],
          "scattergeo": [
           {
            "marker": {
             "colorbar": {
              "outlinewidth": 0,
              "ticks": ""
             }
            },
            "type": "scattergeo"
           }
          ],
          "scattergl": [
           {
            "marker": {
             "colorbar": {
              "outlinewidth": 0,
              "ticks": ""
             }
            },
            "type": "scattergl"
           }
          ],
          "scattermapbox": [
           {
            "marker": {
             "colorbar": {
              "outlinewidth": 0,
              "ticks": ""
             }
            },
            "type": "scattermapbox"
           }
          ],
          "scatterpolar": [
           {
            "marker": {
             "colorbar": {
              "outlinewidth": 0,
              "ticks": ""
             }
            },
            "type": "scatterpolar"
           }
          ],
          "scatterpolargl": [
           {
            "marker": {
             "colorbar": {
              "outlinewidth": 0,
              "ticks": ""
             }
            },
            "type": "scatterpolargl"
           }
          ],
          "scatterternary": [
           {
            "marker": {
             "colorbar": {
              "outlinewidth": 0,
              "ticks": ""
             }
            },
            "type": "scatterternary"
           }
          ],
          "surface": [
           {
            "colorbar": {
             "outlinewidth": 0,
             "ticks": ""
            },
            "colorscale": [
             [
              0,
              "#0d0887"
             ],
             [
              0.1111111111111111,
              "#46039f"
             ],
             [
              0.2222222222222222,
              "#7201a8"
             ],
             [
              0.3333333333333333,
              "#9c179e"
             ],
             [
              0.4444444444444444,
              "#bd3786"
             ],
             [
              0.5555555555555556,
              "#d8576b"
             ],
             [
              0.6666666666666666,
              "#ed7953"
             ],
             [
              0.7777777777777778,
              "#fb9f3a"
             ],
             [
              0.8888888888888888,
              "#fdca26"
             ],
             [
              1,
              "#f0f921"
             ]
            ],
            "type": "surface"
           }
          ],
          "table": [
           {
            "cells": {
             "fill": {
              "color": "#EBF0F8"
             },
             "line": {
              "color": "white"
             }
            },
            "header": {
             "fill": {
              "color": "#C8D4E3"
             },
             "line": {
              "color": "white"
             }
            },
            "type": "table"
           }
          ]
         },
         "layout": {
          "annotationdefaults": {
           "arrowcolor": "#2a3f5f",
           "arrowhead": 0,
           "arrowwidth": 1
          },
          "autotypenumbers": "strict",
          "coloraxis": {
           "colorbar": {
            "outlinewidth": 0,
            "ticks": ""
           }
          },
          "colorscale": {
           "diverging": [
            [
             0,
             "#8e0152"
            ],
            [
             0.1,
             "#c51b7d"
            ],
            [
             0.2,
             "#de77ae"
            ],
            [
             0.3,
             "#f1b6da"
            ],
            [
             0.4,
             "#fde0ef"
            ],
            [
             0.5,
             "#f7f7f7"
            ],
            [
             0.6,
             "#e6f5d0"
            ],
            [
             0.7,
             "#b8e186"
            ],
            [
             0.8,
             "#7fbc41"
            ],
            [
             0.9,
             "#4d9221"
            ],
            [
             1,
             "#276419"
            ]
           ],
           "sequential": [
            [
             0,
             "#0d0887"
            ],
            [
             0.1111111111111111,
             "#46039f"
            ],
            [
             0.2222222222222222,
             "#7201a8"
            ],
            [
             0.3333333333333333,
             "#9c179e"
            ],
            [
             0.4444444444444444,
             "#bd3786"
            ],
            [
             0.5555555555555556,
             "#d8576b"
            ],
            [
             0.6666666666666666,
             "#ed7953"
            ],
            [
             0.7777777777777778,
             "#fb9f3a"
            ],
            [
             0.8888888888888888,
             "#fdca26"
            ],
            [
             1,
             "#f0f921"
            ]
           ],
           "sequentialminus": [
            [
             0,
             "#0d0887"
            ],
            [
             0.1111111111111111,
             "#46039f"
            ],
            [
             0.2222222222222222,
             "#7201a8"
            ],
            [
             0.3333333333333333,
             "#9c179e"
            ],
            [
             0.4444444444444444,
             "#bd3786"
            ],
            [
             0.5555555555555556,
             "#d8576b"
            ],
            [
             0.6666666666666666,
             "#ed7953"
            ],
            [
             0.7777777777777778,
             "#fb9f3a"
            ],
            [
             0.8888888888888888,
             "#fdca26"
            ],
            [
             1,
             "#f0f921"
            ]
           ]
          },
          "colorway": [
           "#636efa",
           "#EF553B",
           "#00cc96",
           "#ab63fa",
           "#FFA15A",
           "#19d3f3",
           "#FF6692",
           "#B6E880",
           "#FF97FF",
           "#FECB52"
          ],
          "font": {
           "color": "#2a3f5f"
          },
          "geo": {
           "bgcolor": "white",
           "lakecolor": "white",
           "landcolor": "#E5ECF6",
           "showlakes": true,
           "showland": true,
           "subunitcolor": "white"
          },
          "hoverlabel": {
           "align": "left"
          },
          "hovermode": "closest",
          "mapbox": {
           "style": "light"
          },
          "paper_bgcolor": "white",
          "plot_bgcolor": "#E5ECF6",
          "polar": {
           "angularaxis": {
            "gridcolor": "white",
            "linecolor": "white",
            "ticks": ""
           },
           "bgcolor": "#E5ECF6",
           "radialaxis": {
            "gridcolor": "white",
            "linecolor": "white",
            "ticks": ""
           }
          },
          "scene": {
           "xaxis": {
            "backgroundcolor": "#E5ECF6",
            "gridcolor": "white",
            "gridwidth": 2,
            "linecolor": "white",
            "showbackground": true,
            "ticks": "",
            "zerolinecolor": "white"
           },
           "yaxis": {
            "backgroundcolor": "#E5ECF6",
            "gridcolor": "white",
            "gridwidth": 2,
            "linecolor": "white",
            "showbackground": true,
            "ticks": "",
            "zerolinecolor": "white"
           },
           "zaxis": {
            "backgroundcolor": "#E5ECF6",
            "gridcolor": "white",
            "gridwidth": 2,
            "linecolor": "white",
            "showbackground": true,
            "ticks": "",
            "zerolinecolor": "white"
           }
          },
          "shapedefaults": {
           "line": {
            "color": "#2a3f5f"
           }
          },
          "ternary": {
           "aaxis": {
            "gridcolor": "white",
            "linecolor": "white",
            "ticks": ""
           },
           "baxis": {
            "gridcolor": "white",
            "linecolor": "white",
            "ticks": ""
           },
           "bgcolor": "#E5ECF6",
           "caxis": {
            "gridcolor": "white",
            "linecolor": "white",
            "ticks": ""
           }
          },
          "title": {
           "x": 0.05
          },
          "xaxis": {
           "automargin": true,
           "gridcolor": "white",
           "linecolor": "white",
           "ticks": "",
           "title": {
            "standoff": 15
           },
           "zerolinecolor": "white",
           "zerolinewidth": 2
          },
          "yaxis": {
           "automargin": true,
           "gridcolor": "white",
           "linecolor": "white",
           "ticks": "",
           "title": {
            "standoff": 15
           },
           "zerolinecolor": "white",
           "zerolinewidth": 2
          }
         }
        }
       }
      }
     },
     "metadata": {},
     "output_type": "display_data"
    }
   ],
   "source": [
    "# Definindo as datas de início e fim\n",
    "start_date = \"2023-07-01\"\n",
    "end_date = \"2023-12-31\"\n",
    "\n",
    "# Baixando os dados históricos da Apple (AAPL) usando yfinance\n",
    "df = yf.download(\"AAPL\", start=start_date, end=end_date, interval=\"1d\")\n",
    "\n",
    "# Plotando o gráfico candlestick\n",
    "fig = plotCandleStick(df, acao=\"AAPL\")\n",
    "\n",
    "# Exibindo o gráfico no Jupyter Notebook\n",
    "fig.show()"
   ]
  },
  {
   "cell_type": "markdown",
   "metadata": {},
   "source": [
    "#### LIMPEZA E TRATAMENTO DE DADOS"
   ]
  },
  {
   "cell_type": "markdown",
   "metadata": {},
   "source": [
    "1. Verificação de valores ausentes:\n",
    "\n",
    "Eventualmente, os dados podem ter lacunas, especialmente se houver interrupções no mercado ou em dias de feriado, portanto começaremos por verificar se os dados possuem valores ausentes (NaN) no DataFrame testado e decidamos como lidar com eles."
   ]
  },
  {
   "cell_type": "code",
   "execution_count": 8,
   "metadata": {},
   "outputs": [
    {
     "name": "stderr",
     "output_type": "stream",
     "text": [
      "[*********************100%%**********************]  1 of 1 completed\n"
     ]
    }
   ],
   "source": [
    "# Definindo as datas de início e fim\n",
    "start_date = \"2023-07-01\"\n",
    "end_date = \"2023-12-31\"\n",
    "\n",
    "# Baixando os dados históricos da Apple (AAPL) usando yfinance\n",
    "df = yf.download(\"AAPL\", start=start_date, end=end_date, interval=\"1d\")"
   ]
  },
  {
   "cell_type": "code",
   "execution_count": 3,
   "metadata": {},
   "outputs": [
    {
     "name": "stdout",
     "output_type": "stream",
     "text": [
      "Open         0\n",
      "High         0\n",
      "Low          0\n",
      "Close        0\n",
      "Adj Close    0\n",
      "Volume       0\n",
      "dtype: int64\n"
     ]
    }
   ],
   "source": [
    "# Verificar valores ausentes\n",
    "missing_values = df.isnull().sum()\n",
    "print(missing_values)"
   ]
  },
  {
   "cell_type": "code",
   "execution_count": 4,
   "metadata": {},
   "outputs": [],
   "source": [
    "# Remover linhas com valores ausentes\n",
    "df_cleaned = df.dropna()"
   ]
  },
  {
   "cell_type": "code",
   "execution_count": 5,
   "metadata": {},
   "outputs": [
    {
     "name": "stderr",
     "output_type": "stream",
     "text": [
      "C:\\Users\\vasco\\AppData\\Local\\Temp\\ipykernel_11168\\3227514366.py:2: FutureWarning: DataFrame.fillna with 'method' is deprecated and will raise in a future version. Use obj.ffill() or obj.bfill() instead.\n",
      "  df_cleaned = df.fillna(method='ffill')\n"
     ]
    }
   ],
   "source": [
    "# Ou, preencher valores ausentes com o valor anterior\n",
    "df_cleaned = df.fillna(method='ffill')\n"
   ]
  },
  {
   "cell_type": "markdown",
   "metadata": {},
   "source": [
    "2. Verificação de outliers:\n",
    "\n",
    "Outliers podem distorcer análises e visualizações, especialmente em alguns tipos de gráficos, para isso identificaremos possíveis outliers usaremos uma técnica estatística chamada IQR (Interquartile Range) para garantir que eles não afetem negativamente a análise.\n",
    "\n",
    "O IQR é uma medida estatística que representa a diferença entre o terceiro quartil (Q3) e o primeiro quartil (Q1) de um conjunto de dados.\n",
    "\n",
    "O que são quartis?\n",
    "\n",
    "Primeiro Quartil (Q1): É o valor abaixo do qual se encontra 25% dos dados.\n",
    "Terceiro Quartil (Q3): É o valor abaixo do qual se encontra 75% dos dados.\n",
    "\n",
    "Como é calculado?\n",
    "O IQR é calculado pela fórmula:\n",
    "\n",
    "IQR = 𝑄3 − 𝑄1\n",
    "\n",
    "Para que serve o IQR?\n",
    "\n",
    "O IQR é usado principalmente para identificar a dispersão central dos dados e para detectar outliers (valores atípicos). Dados que caem abaixo de 𝑄1 − 1.5 × 𝐼𝑄𝑅 ou acima de 𝑄3 + 1.5 × 𝐼𝑄𝑅 são frequentemente considerados outliers."
   ]
  },
  {
   "cell_type": "code",
   "execution_count": 9,
   "metadata": {},
   "outputs": [
    {
     "name": "stdout",
     "output_type": "stream",
     "text": [
      "Empty DataFrame\n",
      "Columns: [Open, High, Low, Close, Adj Close, Volume]\n",
      "Index: []\n"
     ]
    }
   ],
   "source": [
    "# Usando o IQR para detectar outliers no preço de fechamento\n",
    "Q1 = df['Close'].quantile(0.25)\n",
    "Q3 = df['Close'].quantile(0.75)\n",
    "IQR = Q3 - Q1\n",
    "\n",
    "outliers = df[(df['Close'] < (Q1 - 1.5 * IQR)) | (df['Close'] > (Q3 + 1.5 * IQR))]\n",
    "print(outliers)"
   ]
  },
  {
   "cell_type": "code",
   "execution_count": 7,
   "metadata": {},
   "outputs": [],
   "source": [
    "# Remover outliers (opcional, dependendo da análise)\n",
    "df_cleaned = df[~df.index.isin(outliers.index)]"
   ]
  },
  {
   "cell_type": "markdown",
   "metadata": {},
   "source": [
    "3. Verificação de duplicatas:\n",
    "\n",
    "Embora improvável, duplicatas podem ocorrer devido a erros na API ou em requisições repetidas e para evitar isso removeremos quaisquer ocorrência existente para evitar distorções na análise."
   ]
  },
  {
   "cell_type": "code",
   "execution_count": 10,
   "metadata": {},
   "outputs": [],
   "source": [
    "# Verificar e remover duplicatas\n",
    "df_cleaned = df.drop_duplicates()"
   ]
  },
  {
   "cell_type": "markdown",
   "metadata": {},
   "source": [
    "4. Normalização de datas:\n",
    "\n",
    "Certificaremos que o intervalo de datas usado esteja alinhado corretamente com os dias de mercado abertos, removendo datas fora do período de trading."
   ]
  },
  {
   "cell_type": "code",
   "execution_count": 11,
   "metadata": {},
   "outputs": [],
   "source": [
    "# Verificar se as datas são dias úteis\n",
    "df_cleaned = df[df.index.to_series().apply(lambda x: x.isoweekday() < 6)]"
   ]
  },
  {
   "cell_type": "markdown",
   "metadata": {},
   "source": [
    "5. Reindexação e interpolação:\n",
    "\n",
    "Podem haver lacunas nas datas, por exemplo, faltando dados em alguns dias úteis e poderemos interpolar ou ajustar os dados, para isto reindexaremos o dataframe para garantir que todas as datas dentro do intervalo estejam presentes e, em seguida, interpolar os dados ausentes, se necessário."
   ]
  },
  {
   "cell_type": "code",
   "execution_count": 12,
   "metadata": {},
   "outputs": [],
   "source": [
    "# Reindexando para incluir todas as datas do intervalo\n",
    "all_dates = pd.date_range(start=start_date, end=end_date, freq='B')  # 'B' significa dias úteis\n",
    "df_reindexed = df.reindex(all_dates)\n",
    "\n",
    "# Interpolando valores ausentes\n",
    "df_cleaned = df_reindexed.interpolate(method='linear')"
   ]
  },
  {
   "cell_type": "markdown",
   "metadata": {},
   "source": [
    "6. Validação final:\n",
    "\n",
    "Para garantir que, após todas as limpezas e tratamentos, os dados estão consistentes e prontos para análise, faremos uma validação final visualizando um resumo estatístico dos dados e criaremos um gráfico simples para inspecionar a integridade dos dados."
   ]
  },
  {
   "cell_type": "code",
   "execution_count": 13,
   "metadata": {},
   "outputs": [
    {
     "name": "stdout",
     "output_type": "stream",
     "text": [
      "             Open        High         Low       Close   Adj Close  \\\n",
      "count  130.000000  130.000000  130.000000  130.000000  130.000000   \n",
      "mean   184.193962  185.611962  182.790961  184.238462  183.525509   \n",
      "std      8.676461    8.385179    8.734094    8.501634    8.494910   \n",
      "min    166.910004  168.960007  165.669998  166.889999  166.232529   \n",
      "25%    176.544994  178.262505  175.242500  176.774994  176.078598   \n",
      "50%    185.230003  186.975006  182.724998  184.459999  183.854584   \n",
      "75%    191.817497  193.475004  191.024998  191.928753  190.941776   \n",
      "max    198.020004  199.619995  197.000000  198.110001  197.589523   \n",
      "\n",
      "             Volume  \n",
      "count  1.300000e+02  \n",
      "mean   5.492863e+07  \n",
      "std    1.645574e+07  \n",
      "min    2.404830e+07  \n",
      "25%    4.530445e+07  \n",
      "50%    5.207630e+07  \n",
      "75%    6.078342e+07  \n",
      "max    1.282567e+08  \n"
     ]
    }
   ],
   "source": [
    "# Resumo estatístico\n",
    "print(df_cleaned.describe())"
   ]
  },
  {
   "cell_type": "code",
   "execution_count": 14,
   "metadata": {},
   "outputs": [
    {
     "data": {
      "text/plain": [
       "<Axes: title={'center': 'Preço de Fechamento - AAPL'}>"
      ]
     },
     "execution_count": 14,
     "metadata": {},
     "output_type": "execute_result"
    },
    {
     "data": {
      "image/png": "[encoded data removed]",
      "text/plain": [
       "<Figure size 1000x600 with 1 Axes>"
      ]
     },
     "metadata": {},
     "output_type": "display_data"
    }
   ],
   "source": [
    "# Visualização simples para verificação\n",
    "df_cleaned['Close'].plot(title=\"Preço de Fechamento - AAPL\", figsize=(10,6))\n"
   ]
  },
  {
   "cell_type": "markdown",
   "metadata": {},
   "source": [
    "Considerações finais:\n",
    "\n",
    "Embora os dados do Yahoo Finance sejam geralmente confiáveis, essas etapas de limpeza e tratamento garantem que estejamos trabalhando com um conjunto de dados robusto, minimizando possíveis erros ou distorções na análise final."
   ]
  }
 ],
 "metadata": {
  "kernelspec": {
   "display_name": "base",
   "language": "python",
   "name": "python3"
  },
  "language_info": {
   "codemirror_mode": {
    "name": "ipython",
    "version": 3
   },
   "file_extension": ".py",
   "mimetype": "text/x-python",
   "name": "python",
   "nbconvert_exporter": "python",
   "pygments_lexer": "ipython3",
   "version": "3.11.7"
  }
 },
 "nbformat": 4,
 "nbformat_minor": 2
}
