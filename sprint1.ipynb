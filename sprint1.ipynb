{
 "cells": [
  {
   "cell_type": "markdown",
   "metadata": {},
   "source": [
    "### SPRINT 1"
   ]
  },
  {
   "cell_type": "markdown",
   "metadata": {},
   "source": [
    "#### Pesquisar APIs de dados financeiros"
   ]
  },
  {
   "cell_type": "markdown",
   "metadata": {},
   "source": [
    "Seguem abaixo as principais APIs para captura de dados financeiros:\n",
    "\n",
    "1. Alpha Vantage:\n",
    "\n",
    "Oferece dados financeiros globais, incluindo ações, forex, criptomoedas e indicadores econômicos. Possui uma API gratuita com limites de uso.\n",
    "\n",
    "Biblioteca Python: alpha_vantage"
   ]
  },
  {
   "cell_type": "markdown",
   "metadata": {},
   "source": [
    "##### exemplo de uso do Alpha Vantage"
   ]
  },
  {
   "cell_type": "code",
   "execution_count": null,
   "metadata": {},
   "outputs": [],
   "source": [
    "from alpha_vantage.timeseries import TimeSeries\n",
    "\n",
    "ts = TimeSeries(key='sua_chave_api')\n",
    "data, meta_data = ts.get_intraday(symbol='PETR4.SA', interval='1min', outputsize='full')\n"
   ]
  },
  {
   "cell_type": "markdown",
   "metadata": {},
   "source": [
    "2. IEX Cloud:\n",
    "\n",
    "Disponibiliza dados financeiros globais, com uma API gratuita e planos pagos para dados mais avançados.\n",
    "\n",
    "Biblioteca Python: iexfinance"
   ]
  },
  {
   "cell_type": "markdown",
   "metadata": {},
   "source": [
    "##### exemplo de uso do IEX Cloud"
   ]
  },
  {
   "cell_type": "code",
   "execution_count": null,
   "metadata": {},
   "outputs": [],
   "source": [
    "from iexfinance.stocks import Stock\n",
    "\n",
    "stock = Stock(\"AAPL\", token=\"sua_chave_api\")\n",
    "data = stock.get_quote()\n"
   ]
  },
  {
   "cell_type": "markdown",
   "metadata": {},
   "source": [
    "3. Quandl:\n",
    "\n",
    "Oferece uma vasta gama de dados financeiros, incluindo ações, moedas, commodities e indicadores econômicos. Possui planos gratuitos e pagos.\n",
    "\n",
    "Biblioteca Python: quandl"
   ]
  },
  {
   "cell_type": "markdown",
   "metadata": {},
   "source": [
    "##### exemplo de uso do Quandl"
   ]
  },
  {
   "cell_type": "code",
   "execution_count": null,
   "metadata": {},
   "outputs": [],
   "source": [
    "import quandl\n",
    "\n",
    "quandl.ApiConfig.api_key = 'sua_chave_api'\n",
    "data = quandl.get(\"WIKI/GOOGL\")\n"
   ]
  },
  {
   "cell_type": "markdown",
   "metadata": {},
   "source": [
    "4. Yahoo Finance:\n",
    "\n",
    "Muito popular para dados históricos e atuais de ações, criptomoedas e outras informações financeiras.\n",
    "\n",
    "Biblioteca Python: yfinance"
   ]
  },
  {
   "cell_type": "markdown",
   "metadata": {},
   "source": [
    "##### exemplo de uso do Yahoo Finance"
   ]
  },
  {
   "cell_type": "code",
   "execution_count": null,
   "metadata": {},
   "outputs": [],
   "source": [
    "import yfinance as yf\n",
    "\n",
    "data = yf.download('PETR4.SA', start='2021-01-01', end='2021-12-31')\n"
   ]
  },
  {
   "cell_type": "markdown",
   "metadata": {},
   "source": [
    "5. B3 API:\n",
    "\n",
    "A B3 (Bolsa de Valores do Brasil) oferece algumas APIs para acesso a dados financeiros. Embora algumas sejam pagas, há informações públicas disponíveis.\n",
    "\n",
    "Não possui uma biblioteca oficial em Python, mas você pode usar requests para fazer chamadas HTTP."
   ]
  },
  {
   "cell_type": "markdown",
   "metadata": {},
   "source": [
    "##### exemplo de uso do B3 API"
   ]
  },
  {
   "cell_type": "code",
   "execution_count": null,
   "metadata": {},
   "outputs": [],
   "source": [
    "import requests\n",
    "\n",
    "url = \"https://api.b3.com.br/data/endpoint\"\n",
    "response = requests.get(url)\n",
    "data = response.json()\n"
   ]
  },
  {
   "cell_type": "markdown",
   "metadata": {},
   "source": [
    "6. Investing.com:\n",
    "\n",
    "Oferece dados de mercado de vários países, incluindo o Brasil. Para acessar a API, geralmente é necessário web scraping.\n",
    "\n",
    "Biblioteca Python: investpy (mas verifique se ainda está funcionando, pois houve bloqueios recentes)."
   ]
  },
  {
   "cell_type": "markdown",
   "metadata": {},
   "source": [
    "##### exemplo de uso do Investing.com"
   ]
  },
  {
   "cell_type": "code",
   "execution_count": null,
   "metadata": {},
   "outputs": [],
   "source": [
    "import investpy\n",
    "\n",
    "data = investpy.get_stock_historical_data(stock='PETR4',\n",
    "                                          country='brazil',\n",
    "                                          from_date='01/01/2021',\n",
    "                                          to_date='31/12/2021')\n"
   ]
  },
  {
   "cell_type": "markdown",
   "metadata": {},
   "source": [
    "#### Configurar o ambiente para desenvolvimento e testes"
   ]
  },
  {
   "cell_type": "markdown",
   "metadata": {},
   "source": [
    "Para o ambiente de desenvolvimento optei por utilizar o sistema operacional Windows 11, para escrita do código utilizei o Visual Studio Code (VScode) com a extensão do Jupyter Notebook e do python como linguagem de programação, conforme imagens abaixo:"
   ]
  },
  {
   "cell_type": "markdown",
   "metadata": {},
   "source": [
    "Para controle de versão estou utilizando o git com Github gerenciado através de linha de comando com o Cmder conforme imagens abaixo:"
   ]
  },
  {
   "cell_type": "markdown",
   "metadata": {},
   "source": [
    "#### Configurar o ambiente para desenvolvimento e testes"
   ]
  },
  {
   "cell_type": "markdown",
   "metadata": {},
   "source": [
    "#### Para criação da interface do usuário utilizaremos o Framework python Streamlit"
   ]
  },
  {
   "cell_type": "code",
   "execution_count": 1,
   "metadata": {},
   "outputs": [],
   "source": [
    "#importando a biblioteca streamlit e atribuindo o apelido \"st\"\n",
    "import streamlit as st  # type: ignore\n",
    "\n",
    "#bliblioteca responsável pela atualização automática da página web\n",
    "from streamlit_autorefresh import st_autorefresh # type: ignore"
   ]
  },
  {
   "cell_type": "markdown",
   "metadata": {},
   "source": [
    "##### Optei em utilizar o Yahoo Finance por sua flexibilidade e por ser gratuito, sendo uma excelente opção para criação do protótipo, na minha opinião."
   ]
  },
  {
   "cell_type": "code",
   "execution_count": 2,
   "metadata": {},
   "outputs": [],
   "source": [
    "#importando a biblioteca do yahoo finance\n",
    "import yfinance as yf"
   ]
  },
  {
   "cell_type": "code",
   "execution_count": 3,
   "metadata": {},
   "outputs": [],
   "source": [
    "#importando bibliotecas para uso de datas\n",
    "from datetime import datetime, timedelta"
   ]
  },
  {
   "cell_type": "code",
   "execution_count": 4,
   "metadata": {},
   "outputs": [],
   "source": [
    "#importando blibliotecas para exibir gráficos para testes da apelido\n",
    "import plotly.graph_objs as go"
   ]
  },
  {
   "cell_type": "markdown",
   "metadata": {},
   "source": [
    "##### Criando o script inicial da aplicação e realizando testes"
   ]
  },
  {
   "cell_type": "code",
   "execution_count": 5,
   "metadata": {},
   "outputs": [],
   "source": [
    "# Lista de países e intervalos de tempo\n",
    "countries = [\"Brazil\", \"United States\"]\n",
    "intervals = [\"1d\", \"1wk\", \"1mo\"]  # d - dia wk - semana mo - mês"
   ]
  },
  {
   "cell_type": "code",
   "execution_count": 6,
   "metadata": {},
   "outputs": [],
   "source": [
    "#Criando o filtro para o usuário selecionar o intervalo de pesquisa desejado\n",
    "start_date = datetime.now() - timedelta(days=30)\n",
    "end_date = datetime.now()"
   ]
  },
  {
   "cell_type": "code",
   "execution_count": 7,
   "metadata": {},
   "outputs": [
    {
     "name": "stderr",
     "output_type": "stream",
     "text": [
      "2024-07-27 11:26:24.828 WARNING streamlit.runtime.caching.cache_data_api: No runtime found, using MemoryCacheStorageManager\n"
     ]
    }
   ],
   "source": [
    "#função de cache do streamlit para evitar redundância de dados\n",
    "@st.cache_data()\n",
    "\n",
    "#criando a função para consulta do usuário \n",
    "def consultar_acao(stock, from_date, to_date, interval):\n",
    "    return yf.download(stock, start=from_date, end=to_date, interval=interval, progress=False)"
   ]
  },
  {
   "cell_type": "code",
   "execution_count": 8,
   "metadata": {},
   "outputs": [],
   "source": [
    "#criando uma função para formatar a data\n",
    "def format_date(dt, format=\"%Y-%m-%d\"):\n",
    "    return dt.strftime(format)"
   ]
  },
  {
   "cell_type": "code",
   "execution_count": 10,
   "metadata": {},
   "outputs": [],
   "source": [
    "# função que cria um grafo para teste de consulta e tempo de retorno\n",
    "def plotCandleStick(df, acao=\"ticket\"):\n",
    "    trace1 = {\n",
    "        \"x\": df.index,\n",
    "        \"open\": df[\"Open\"],\n",
    "        \"close\": df[\"Close\"],\n",
    "        \"high\": df[\"High\"],\n",
    "        \"low\": df[\"Low\"],\n",
    "        \"type\": \"candlestick\",\n",
    "        \"name\": acao,\n",
    "        \"showlegend\": False,\n",
    "    }\n",
    "\n",
    "    data = [trace1]\n",
    "    layout = go.Layout()\n",
    "\n",
    "    return go.Figure(data=data, layout=layout)"
   ]
  },
  {
   "cell_type": "code",
   "execution_count": 11,
   "metadata": {},
   "outputs": [
    {
     "name": "stderr",
     "output_type": "stream",
     "text": [
      "2024-07-27 11:30:17.697 \n",
      "  \u001b[33m\u001b[1mWarning:\u001b[0m to view this Streamlit app on a browser, run it with the following\n",
      "  command:\n",
      "\n",
      "    streamlit run c:\\Users\\vasco\\anaconda3\\Lib\\site-packages\\ipykernel_launcher.py [ARGUMENTS]\n",
      "2024-07-27 11:30:17.698 Session state does not function when running a script without `streamlit run`\n"
     ]
    }
   ],
   "source": [
    "#criando a barra lateral da página web com algumas ações pré-selecionadas\n",
    "barra_lateral = st.sidebar.empty()\n",
    "country_select = st.sidebar.selectbox(\"Select country:\", countries)\n",
    "stocks = [\"AAPL\", \"MSFT\", \"GOOGL\"]  # Example stocks, replace with your stock list\n",
    "stock_select = st.sidebar.selectbox(\"Select the stock:\", stocks)\n",
    "from_date = st.sidebar.date_input(\"Start Date:\", start_date)\n",
    "to_date = st.sidebar.date_input(\"End Date:\", end_date)\n",
    "interval_select = st.sidebar.selectbox(\"Select the range:\", intervals)\n",
    "carregar_dados = st.sidebar.checkbox(\"Load Data\")\n",
    "\n",
    "grafico_line = st.empty()\n",
    "grafico_candle = st.empty()"
   ]
  },
  {
   "cell_type": "code",
   "execution_count": 12,
   "metadata": {},
   "outputs": [
    {
     "data": {
      "text/plain": [
       "DeltaGenerator()"
      ]
     },
     "execution_count": 12,
     "metadata": {},
     "output_type": "execute_result"
    }
   ],
   "source": [
    "# Definindo título e cabeçalhos iniciais para a Home Page\n",
    "st.title(\"Análise Gráfica de Ações em Tempo Real\")\n",
    "st.header(\"Ações\")\n",
    "st.subheader(\"Análise Gráfica\")"
   ]
  },
  {
   "cell_type": "code",
   "execution_count": 13,
   "metadata": {},
   "outputs": [
    {
     "name": "stderr",
     "output_type": "stream",
     "text": [
      "2024-07-27 11:30:34.798 No runtime found, using MemoryCacheStorageManager\n"
     ]
    }
   ],
   "source": [
    "#função para definir o tempo de atualização da página que visa permitir\n",
    "#a análise em tempo real\n",
    "count = st_autorefresh(interval=5000, limit=10000, key=\"fizzbuzzcounter\")\n",
    "\n",
    "if count == 0:\n",
    "    st.write(\"Count is zero\")\n",
    "elif count % 3 == 0 and count % 5 == 0:\n",
    "    st.write(\"FizzBuzz\")\n",
    "elif count % 3 == 0:\n",
    "    st.write(\"Fizz\")\n",
    "elif count % 5 == 0:\n",
    "    st.write(\"Buzz\")\n",
    "else:\n",
    "    st.write(f\"Count: {count}\")\n",
    "\n",
    "if from_date > to_date:\n",
    "    st.sidebar.error(\"Start Date greater than End Date\")\n",
    "else:\n",
    "    df = consultar_acao(stock_select, format_date(from_date), format_date(to_date), interval_select)\n",
    "    try:\n",
    "        fig = plotCandleStick(df)\n",
    "        grafico_candle.plotly_chart(fig)\n",
    "        grafico_line.line_chart(df[\"Close\"])\n",
    "        if carregar_dados:\n",
    "            st.subheader(\"Data\")\n",
    "            st.dataframe(df)\n",
    "    except Exception as e:\n",
    "        st.error(e)"
   ]
  },
  {
   "cell_type": "markdown",
   "metadata": {},
   "source": [
    "##### Criaremos agora o servidor local do streamlit "
   ]
  },
  {
   "cell_type": "code",
   "execution_count": null,
   "metadata": {},
   "outputs": [],
   "source": [
    "#Para converter um script de Jupyter Notebook (.ipynb) para um script Python\n",
    "#(.py), utilizaremos a ferramenta nbconvert que faz parte do Jupyter.\n",
    "\n",
    "#utilizaremos o gerenciador de pacotes \"pip\" para instalação do jupyter\n",
    "!pip install jupyter\n"
   ]
  },
  {
   "cell_type": "code",
   "execution_count": null,
   "metadata": {},
   "outputs": [],
   "source": [
    "#convertendo o script do jupyter notebook para python\n",
    "!jupyter nbconvert --to script sprint1.ipynb"
   ]
  },
  {
   "cell_type": "markdown",
   "metadata": {},
   "source": [
    "###### Para isso deveremos utilizar o comando # sreamlit run sprint1.py no terminal"
   ]
  }
 ],
 "metadata": {
  "kernelspec": {
   "display_name": "base",
   "language": "python",
   "name": "python3"
  },
  "language_info": {
   "codemirror_mode": {
    "name": "ipython",
    "version": 3
   },
   "file_extension": ".py",
   "mimetype": "text/x-python",
   "name": "python",
   "nbconvert_exporter": "python",
   "pygments_lexer": "ipython3",
   "version": "3.11.7"
  }
 },
 "nbformat": 4,
 "nbformat_minor": 2
}
