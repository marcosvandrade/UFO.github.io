{
 "cells": [
  {
   "cell_type": "markdown",
   "metadata": {},
   "source": [
    "### SPRINT 1"
   ]
  },
  {
   "cell_type": "markdown",
   "metadata": {},
   "source": [
    "#### Research Financial Data APIs"
   ]
  },
  {
   "cell_type": "markdown",
   "metadata": {},
   "source": [
    "Below are the main APIs for capturing financial data:\n",
    "\n",
    "1. Alpha Vantage:\n",
    "\n",
    "Provides global financial data, including stocks, forex, cryptocurrencies, and economic indicators. Offers a free API with usage limits.\n",
    "\n",
    "Python Library: alpha_vantage"
   ]
  },
  {
   "cell_type": "markdown",
   "metadata": {},
   "source": [
    "##### Alpha Vantage Usage Example"
   ]
  },
  {
   "cell_type": "code",
   "execution_count": null,
   "metadata": {},
   "outputs": [],
   "source": [
    "from alpha_vantage.timeseries import TimeSeries\n",
    "ts = TimeSeries(key='your_api_key')\n",
    "data, meta_data = ts.get_intraday(symbol='PETR4.SA', interval='1min', outputsize='full')\n"
   ]
  },
  {
   "cell_type": "markdown",
   "metadata": {},
   "source": [
    "2. IEX Cloud:\n",
    "\n",
    "Provides global financial data, with a free API and paid plans for more advanced data.\n",
    "\n",
    "Python Library: iexfinance"
   ]
  },
  {
   "cell_type": "markdown",
   "metadata": {},
   "source": [
    "##### IEX Cloud Usage Example"
   ]
  },
  {
   "cell_type": "code",
   "execution_count": null,
   "metadata": {},
   "outputs": [],
   "source": [
    "from iexfinance.stocks import Stock\n",
    "stock = Stock('AAPL', token='your_api_key')\n",
    "data = stock.get_quote()\n"
   ]
  },
  {
   "cell_type": "markdown",
   "metadata": {},
   "source": [
    "3. Quandl:\n",
    "\n",
    "Offers a vast range of financial data, including stocks, currencies, commodities, and economic indicators.\n",
    "\n",
    "Python Library: quandl"
   ]
  },
  {
   "cell_type": "markdown",
   "metadata": {},
   "source": [
    "##### Quandl Usage Example"
   ]
  },
  {
   "cell_type": "code",
   "execution_count": null,
   "metadata": {},
   "outputs": [],
   "source": [
    "import quandl\n",
    "quandl.ApiConfig.api_key = 'your_api_key'\n",
    "data = quandl.get('WIKI/GOOGL')\n"
   ]
  },
  {
   "cell_type": "markdown",
   "metadata": {},
   "source": [
    "4. Yahoo Finance:\n",
    "\n",
    "Popular for historical and current data on stocks, cryptocurrencies, and other financial information.\n",
    "\n",
    "Python Library: yfinance"
   ]
  },
  {
   "cell_type": "markdown",
   "metadata": {},
   "source": [
    "##### Yahoo Finance Usage Example"
   ]
  },
  {
   "cell_type": "code",
   "execution_count": null,
   "metadata": {},
   "outputs": [],
   "source": [
    "import yfinance as yf\n",
    "data = yf.download('PETR4.SA', start='2021-01-01', end='2021-12-31')\n"
   ]
  },
  {
   "cell_type": "markdown",
   "metadata": {},
   "source": [
    "5. B3 API:\n",
    "\n",
    "Provides financial data via HTTP requests (no official Python library)."
   ]
  },
  {
   "cell_type": "markdown",
   "metadata": {},
   "source": [
    "##### B3 API Usage Example"
   ]
  },
  {
   "cell_type": "code",
   "execution_count": null,
   "metadata": {},
   "outputs": [],
   "source": [
    "import requests\n",
    "url = 'https://api.b3.com.br/data/endpoint'\n",
    "response = requests.get(url)\n",
    "data = response.json()\n"
   ]
  },
  {
   "cell_type": "markdown",
   "metadata": {},
   "source": [
    "#### Set Up Development Environment"
   ]
  },
  {
   "cell_type": "markdown",
   "metadata": {},
   "source": [
    "For development, I used Windows 11 OS, Visual Studio Code with Jupyter Notebook and Python extensions."
   ]
  },
  {
   "cell_type": "code",
   "execution_count": 1,
   "metadata": {},
   "outputs": [],
   "source": [
    "import streamlit as st\n",
    "from streamlit_autorefresh import st_autorefresh"
   ]
  },
  {
   "cell_type": "markdown",
   "metadata": {},
   "source": [
    "##### I used Yahoo Finance due to its flexibility and being free, making it an excellent choice for prototyping."
   ]
  },
  {
   "cell_type": "code",
   "execution_count": 2,
   "metadata": {},
   "outputs": [],
   "source": [
    "import yfinance as yf"
   ]
  },
  {
   "cell_type": "code",
   "execution_count": 3,
   "metadata": {},
   "outputs": [],
   "source": [
    "from datetime import datetime, timedelta"
   ]
  },
  {
   "cell_type": "code",
   "execution_count": 4,
   "metadata": {},
   "outputs": [],
   "source": [
    "import plotly.graph_objs as go"
   ]
  },
  {
   "cell_type": "code",
   "execution_count": 5,
   "metadata": {},
   "outputs": [],
   "source": [
    "countries = ['Brazil', 'United States']\n",
    "intervals = ['1d', '1wk', '1mo']"
   ]
  },
  {
   "cell_type": "code",
   "execution_count": 6,
   "metadata": {},
   "outputs": [],
   "source": [
    "start_date = datetime.now() - timedelta(days=30)\n",
    "end_date = datetime.now()"
   ]
  },
  {
   "cell_type": "code",
   "execution_count": 7,
   "metadata": {},
   "outputs": [],
   "source": [
    "@st.cache_data()\n",
    "def consultar_acao(stock, from_date, to_date, interval):\n",
    "    return yf.download(stock, start=from_date, end=to_date, interval=interval)"
   ]
  },
  {
   "cell_type": "markdown",
   "metadata": {},
   "source": [
    "##### Creating the initial Streamlit app"
   ]
  },
  {
   "cell_type": "code",
   "execution_count": null,
   "metadata": {},
   "outputs": [],
   "source": [
    "st.title('Real-Time Stock Analysis')\n",
    "st.header('Stocks')\n",
    "st.subheader('Graphical Analysis')"
   ]
  }
 ]
}
