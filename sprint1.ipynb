{
 "cells": [
  {
   "cell_type": "markdown",
   "metadata": {},
   "source": [
    "### SPRINT 1"
   ]
  },
  {
   "cell_type": "markdown",
   "metadata": {},
   "source": [
    "#### Research Financial Data APIs"
   ]
  },
  {
   "cell_type": "markdown",
   "metadata": {},
   "source": [
    "Below are the main APIs for capturing financial data:\n",
    "\n",
    "1. Alpha Vantage:\n",
    "\n",
    "Provides global financial data, including stocks, forex, cryptocurrencies, and economic indicators. Offers a free API with usage limits.\n",
    "\n",
    "Python Library: alpha_vantage"
   ]
  },
  {
   "cell_type": "markdown",
   "metadata": {},
   "source": [
    "##### Alpha Vantage Usage Example"
   ]
  },
  {
   "cell_type": "code",
   "execution_count": null,
   "metadata": {},
   "outputs": [],
   "source": [
    "from alpha_vantage.timeseries import TimeSeries # type: ignore\n",
    "\n",
    "ts = TimeSeries(key='your_api_key')\n",
    "data, meta_data = ts.get_intraday(symbol='PETR4.SA', interval='1min', outputsize='full')\n"
   ]
  },
  {
   "cell_type": "markdown",
   "metadata": {},
   "source": [
    "2. IEX Cloud:\n",
    "\n",
    "Offers global financial data, with a free API and paid plans for more advanced data.\n",
    "\n",
    "Python Library: iexfinance"
   ]
  },
  {
   "cell_type": "markdown",
   "metadata": {},
   "source": [
    "##### IEX Cloud Usage Example"
   ]
  },
  {
   "cell_type": "code",
   "execution_count": null,
   "metadata": {},
   "outputs": [],
   "source": [
    "from iexfinance.stocks import Stock\n",
    "\n",
    "stock = Stock(\"AAPL\", token=\"your_api_key\")\n",
    "data = stock.get_quote()\n"
   ]
  },
  {
   "cell_type": "markdown",
   "metadata": {},
   "source": [
    "3. Quandl:\n",
    "\n",
    "Provides a vast range of financial data, including stocks, currencies, commodities, and economic indicators. Offers free and paid plans.\n",
    "\n",
    "Python Library: quandl"
   ]
  },
  {
   "cell_type": "markdown",
   "metadata": {},
   "source": [
    "##### Quandl Usage Example"
   ]
  },
  {
   "cell_type": "code",
   "execution_count": null,
   "metadata": {},
   "outputs": [],
   "source": [
    "import quandl\n",
    "\n",
    "quandl.ApiConfig.api_key = 'your_api_key'\n",
    "data = quandl.get(\"WIKI/GOOGL\")\n"
   ]
  },
  {
   "cell_type": "markdown",
   "metadata": {},
   "source": [
    "4. Yahoo Finance:\n",
    "\n",
    "Popular for historical and current data on stocks, cryptocurrencies, and other financial information.\n",
    "\n",
    "Python Library: yfinance"
   ]
  },
  {
   "cell_type": "markdown",
   "metadata": {},
   "source": [
    "##### Yahoo Finance Usage Example"
   ]
  },
  {
   "cell_type": "code",
   "execution_count": null,
   "metadata": {},
   "outputs": [],
   "source": [
    "import yfinance as yf\n",
    "\n",
    "data = yf.download('PETR4.SA', start='2021-01-01', end='2021-12-31')\n"
   ]
  },
  {
   "cell_type": "markdown",
   "metadata": {},
   "source": [
    "5. B3 API:\n",
    "\n",
    "B3 (Brazil Stock Exchange) provides some APIs for financial data access. Although some are paid, public information is available.\n",
    "\n",
    "No official Python library, but you can use requests for HTTP calls."
   ]
  },
  {
   "cell_type": "markdown",
   "metadata": {},
   "source": [
    "##### B3 API Usage Example"
   ]
  },
  {
   "cell_type": "code",
   "execution_count": null,
   "metadata": {},
   "outputs": [],
   "source": [
    "import requests\n",
    "\n",
    "url = \"https://api.b3.com.br/data/endpoint\"\n",
    "response = requests.get(url)\n",
    "data = response.json()\n"
   ]
  },
  {
   "cell_type": "markdown",
   "metadata": {},
   "source": [
    "6. Investing.com:\n",
    "\n",
    "Offers market data from various countries, including Brazil. API access usually requires web scraping.\n",
    "\n",
    "Python Library: investpy (verify functionality due to recent restrictions)."
   ]
  },
  {
   "cell_type": "markdown",
   "metadata": {},
   "source": [
    "##### Investing.com Usage Example"
   ]
  },
  {
   "cell_type": "code",
   "execution_count": null,
   "metadata": {},
   "outputs": [],
   "source": [
    "import investpy\n",
    "\n",
    "data = investpy.get_stock_historical_data(stock='PETR4',\n",
    "                                          country='brazil',\n",
    "                                          from_date='01/01/2021',\n",
    "                                          to_date='31/12/2021')\n"
   ]
  },
  {
   "cell_type": "markdown",
   "metadata": {},
   "source": [
    "#### Set Up Development Environment"
   ]
  },
  {
   "cell_type": "markdown",
   "metadata": {},
   "source": [
    "For the development environment, I chose Windows 11 OS and used Visual Studio Code (VScode) with Jupyter Notebook and Python extensions, as shown below:"
   ]
  },
  {
   "cell_type": "markdown",
   "metadata": {},
   "source": [
    "For version control, I used Git with GitHub, managed through command line using Cmder, as shown below:"
   ]
  },
  {
   "cell_type": "markdown",
   "metadata": {},
   "source": [
    "#### Configure Development and Testing Environment"
   ]
  },
  {
   "cell_type": "markdown",
   "metadata": {},
   "source": [
    "#### For UI creation, we will use the Streamlit Python framework"
   ]
  },
  {
   "cell_type": "code",
   "execution_count": 1,
   "metadata": {},
   "outputs": [],
   "source": [
    "# Importing the Streamlit library and assigning the alias 'st'\n",
    "import streamlit as st  # type: ignore\n",
    "\n",
    "# Library for automatic web page refresh\n",
    "from streamlit_autorefresh import st_autorefresh # type: ignore"
   ]
  },
  {
   "cell_type": "markdown",
   "metadata": {},
   "source": [
    "##### I chose to use Yahoo Finance for its flexibility and because it’s free, making it an excellent option for the prototype."
   ]
  },
  {
   "cell_type": "code",
   "execution_count": 2,
   "metadata": {},
   "outputs": [],
   "source": [
    "# Importing the Yahoo Finance library\n",
    "import yfinance as yf"
   ]
  },
  {
   "cell_type": "code",
   "execution_count": 3,
   "metadata": {},
   "outputs": [],
   "source": [
    "# Importing date libraries\n",
    "from datetime import datetime, timedelta"
   ]
  },
  {
   "cell_type": "code",
   "execution_count": 4,
   "metadata": {},
   "outputs": [],
   "source": [
    "# Importing libraries for testing graphs\n",
    "import plotly.graph_objs as go"
   ]
  },
  {
   "cell_type": "markdown",
   "metadata": {},
   "source": [
    "##### Creating the initial application script and conducting tests"
   ]
  },
  {
   "cell_type": "code",
   "execution_count": 5,
   "metadata": {},
   "outputs": [],
   "source": [
    "# List of countries and time intervals\n",
    "countries = [\"Brazil\", \"United States\"]\n",
    "intervals = [\"1d\", \"1wk\", \"1mo\"]  # d - day wk - week mo - month"
   ]
  },
  {
   "cell_type": "code",
   "execution_count": 6,
   "metadata": {},
   "outputs": [],
   "source": [
    "# Creating a filter for the user to select the desired search range\n",
    "start_date = datetime.now() - timedelta(days=30)\n",
    "end_date = datetime.now()"
   ]
  },
{
   "cell_type": "code",
   "execution_count": 6,
   "metadata": {},
   "outputs": [],
   "source": [
    "# Creating a filter for the user to select the desired search range\n",
    "start_date = datetime.now() - timedelta(days=30)\n",
    "end_date = datetime.now()"
   ]
  },
  {
   "cell_type": "code",
   "execution_count": 7,
   "metadata": {},
   "outputs": [
    {
     "name": "stderr",
     "output_type": "stream",
     "text": [
      "2024-07-29 08:07:28.614 WARNING streamlit.runtime.caching.cache_data_api: No runtime found, using MemoryCacheStorageManager\n"
     ]
    }
   ],
   "source": [
    "# Streamlit cache function to avoid data redundancy\n",
    "@st.cache_data()\n",
    "\n",
    "# Creating the function for user query\n",
    "def consultar_acao(stock, from_date, to_date, interval):\n",
    "    return yf.download(stock, start=from_date, end=to_date, interval=interval, progress=False)"
   ]
  },
  {
   "cell_type": "code",
   "execution_count": 8,
   "metadata": {},
   "outputs": [],
   "source": [
    "# Creating a function to format the date\n",
    "def format_date(dt, format=\"%Y-%m-%d\"):\n",
    "    return dt.strftime(format)"
   ]
  },
  {
   "cell_type": "code",
   "execution_count": 9,
   "metadata": {},
   "outputs": [],
   "source": [
    "# Function to create a test graph for query and return time\n",
    "def plotCandleStick(df, acao=\"ticket\"):\n",
    "    trace1 = {\n",
    "        \"x\": df.index,\n",
    "        \"open\": df[\"Open\"],\n",
    "        \"close\": df[\"Close\"],\n",
    "        \"high\": df[\"High\"],\n",
    "        \"low\": df[\"Low\"],\n",
    "        \"type\": \"candlestick\",\n",
    "        \"name\": acao,\n",
    "        \"showlegend\": False,\n",
    "    }\n",
    "\n",
    "    data = [trace1]\n",
    "    layout = go.Layout()\n",
    "\n",
    "    return go.Figure(data=data, layout=layout)"
   ]
  },
  {
   "cell_type": "code",
   "execution_count": 10,
   "metadata": {},
   "outputs": [
    {
     "name": "stderr",
     "output_type": "stream",
     "text": [
      "2024-07-29 08:14:09.368 \n",
      "  \u001b[33m\u001b[1mWarning:\u001b[0m to view this Streamlit app on a browser, run it with the following\n",
      "  command:\n",
      "\n",
      "    streamlit run c:\\Users\\vasco\\anaconda3\\Lib\\site-packages\\ipykernel_launcher.py [ARGUMENTS]\n",
      "2024-07-29 08:14:09.370 Session state does not function when running a script without `streamlit run`\n"
     ]
    }
   ],
   "source": [
    "# Creating the sidebar of the web page with some pre-selected stocks\n",
    "sidebar = st.sidebar.empty()\n",
    "country_select = st.sidebar.selectbox(\"Select country:\", countries)\n",
    "stocks = [\"AAPL\", \"MSFT\", \"GOOGL\"]  # Example stocks\n",
    "stock_select = st.sidebar.selectbox(\"Select the stock:\", stocks)\n",
    "from_date = st.sidebar.date_input(\"Start Date:\", start_date)\n",
    "to_date = st.sidebar.date_input(\"End Date:\", end_date)\n",
    "interval_select = st.sidebar.selectbox(\"Select the range:\", intervals)\n",
    "load_data = st.sidebar.checkbox(\"Load Data\")\n",
    "\n",
    "chart_line = st.empty()\n",
    "chart_candle = st.empty()"
   ]
  },
  {
   "cell_type": "code",
   "execution_count": 11,
   "metadata": {},
   "outputs": [
    {
     "data": {
      "text/plain": [
       "DeltaGenerator()"
      ]
     },
     "execution_count": 11,
     "metadata": {},
     "output_type": "execute_result"
    }
   ],
   "source": [
    "# Setting title and headers for the Home Page\n",
    "st.title(\"Real-Time Stock Analysis\")\n",
    "st.header(\"Stocks\")\n",
    "st.subheader(\"Graphical Analysis\")"
   ]
  },
  {
   "cell_type": "code",
   "execution_count": 12,
   "metadata": {},
   "outputs": [
    {
     "name": "stderr",
     "output_type": "stream",
     "text": [
      "2024-07-29 08:18:18.939 No runtime found, using MemoryCacheStorageManager\n"
     ]
    }
   ],
   "source": [
    "# Page refresh function to allow real-time analysis\n",
    "count = st_autorefresh(interval=5000, limit=10000, key=\"fizzbuzzcounter\")\n",
    "\n",
    "if count == 0:\n",
    "    st.write(\"Count is zero\")\n",
    "elif count % 3 == 0 and count % 5 == 0:\n",
    "    st.write(\"FizzBuzz\")\n",
    "elif count % 3 == 0:\n",
    "    st.write(\"Fizz\")\n",
    "elif count % 5 == 0:\n",
    "    st.write(\"Buzz\")\n",
    "else:\n",
    "    st.write(f\"Count: {count}\")\n",
    "\n",
    "if from_date > to_date:\n",
    "    st.sidebar.error(\"Start Date greater than End Date\")\n",
    "else:\n",
    "    df = consultar_acao(stock_select, format_date(from_date), format_date(to_date), interval_select)\n",
    "    try:\n",
    "        fig = plotCandleStick(df)\n",
    "        chart_candle.plotly_chart(fig)\n",
    "        chart_line.line_chart(df[\"Close\"])\n",
    "        if load_data:\n",
    "            st.subheader(\"Data\")\n",
    "            st.dataframe(df)\n",
    "    except Exception as e:\n",
    "        st.error(e)"
   ]
  },
  {
   "cell_type": "markdown",
   "metadata": {},
   "source": [
    "##### Now we'll create the Streamlit local server"
   ]
  },
  {
   "cell_type": "code",
   "execution_count": null,
   "metadata": {},
   "outputs": [],
   "source": [
    "# To convert a Jupyter Notebook (.ipynb) script to a Python script (.py), we'll use nbconvert, a Jupyter tool.\n",
    "\n",
    "# We will use the package manager \"pip\" to install jupyter\n",
    "!pip install jupyter\n"
   ]
  },
  {
   "cell_type": "code",
   "execution_count": null,
   "metadata": {},
   "outputs": [],
   "source": [
    "# Converting the Jupyter notebook script to Python\n",
    "!jupyter nbconvert --to script sprint1.ipynb"
   ]
  },
  {
   "cell_type": "markdown",
   "metadata": {},
   "source": [
    "###### We will use the command # streamlit run sprint1.py in the terminal to run it."
   ]
  }
 ]
}
