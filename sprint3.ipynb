{
 "cells": [
  {
   "cell_type": "markdown",
   "metadata": {},
   "source": [
    "#### SPRINT 3"
   ]
  },
  {
   "cell_type": "markdown",
   "metadata": {},
   "source": [
    "##### ETAPA 1 DO TRELLO - MELHORANDO A INTERFACE GRÁFICA"
   ]
  },
  {
   "cell_type": "code",
   "execution_count": 6,
   "metadata": {},
   "outputs": [
    {
     "name": "stderr",
     "output_type": "stream",
     "text": [
      "2024-08-12 10:00:53.980 No runtime found, using MemoryCacheStorageManager\n"
     ]
    }
   ],
   "source": [
    "#importando a biblioteca do yahoo finance\n",
    "import yfinance as yf\n",
    "\n",
    "#importando a biblioteca streamlit e atribuindo o apelido \"st\"\n",
    "import streamlit as st\n",
    "\n",
    "#bliblioteca responsável pela atualização automática da página web\n",
    "from streamlit_autorefresh import st_autorefresh\n",
    "\n",
    "#importando blibliotecas para exibir gráficos\n",
    "import plotly.graph_objs as go\n",
    "\n",
    "#importando bibliotecas para uso de datas\n",
    "from datetime import datetime, timedelta\n",
    "\n",
    "# Criando uma lista de países e intervalos de tempo\n",
    "countries = [\"Brazil\", \"United States\"]\n",
    "intervals = [\"1d\", \"1wk\", \"1mo\"]\n",
    "\n",
    "#criando uma função para formatar a data\n",
    "def format_date(dt, format=\"%Y-%m-%d\"):\n",
    "    return dt.strftime(format)\n",
    "\n",
    "#função de cache do streamlit para evitar redundância de dados\n",
    "@st.cache_data()\n",
    "\n",
    "#criando a função para consulta do usuário \n",
    "def consultar_acao(stock, from_date, to_date, interval):\n",
    "    return yf.download(stock, start=from_date, end=to_date, interval=interval, progress=False)\n",
    "\n",
    "#criando uma função para formatar a data\n",
    "def format_date(dt, format=\"%Y-%m-%d\"):\n",
    "    return dt.strftime(format)\n",
    "\n",
    "#Criando o filtro para o usuário selecionar o intervalo de pesquisa desejado\n",
    "start_date = datetime.now() - timedelta(days=30)\n",
    "end_date = datetime.now()\n",
    "\n",
    "# função para exiblição dos gráficos\n",
    "def plotCandleStick(df, acao=\"ticket\"):\n",
    "    trace1 = {\n",
    "        \"x\": df.index,\n",
    "        \"open\": df[\"Open\"],\n",
    "        \"close\": df[\"Close\"],\n",
    "        \"high\": df[\"High\"],\n",
    "        \"low\": df[\"Low\"],\n",
    "        \"type\": \"candlestick\",\n",
    "        \"name\": acao,\n",
    "        \"showlegend\": False,\n",
    "    }\n",
    "\n",
    "    data = [trace1]\n",
    "    layout = go.Layout()\n",
    "\n",
    "    return go.Figure(data=data, layout=layout)"
   ]
  },
  {
   "cell_type": "markdown",
   "metadata": {},
   "source": [
    "##### Aplicando melhorias na barra lateral"
   ]
  },
  {
   "cell_type": "code",
   "execution_count": 7,
   "metadata": {},
   "outputs": [],
   "source": [
    "#criando a barra lateral da página web com algumas ações pré-selecionadas\n",
    "barra_lateral = st.sidebar.empty()\n",
    "country_select = st.sidebar.selectbox(\"Escolha o país:\", countries)\n",
    "stocks = [\"AAPL\", \"MSFT\", \"GOOGL\"]\n",
    "stock_select = st.sidebar.selectbox(\"Selecione a ação:\", stocks)\n",
    "from_date = st.sidebar.date_input(\"Data Inicial:\", start_date)\n",
    "to_date = st.sidebar.date_input(\"Data Final:\", end_date)\n",
    "interval_select = st.sidebar.selectbox(\"Escolha o intervado de tempo desejado (d - dia wk - semana mo - mês):\", intervals)\n",
    "carregar_dados = st.sidebar.checkbox(\"Carregar Dados\")\n",
    "\n",
    "grafico_line = st.empty()\n",
    "grafico_candle = st.empty()"
   ]
  },
  {
   "cell_type": "code",
   "execution_count": 3,
   "metadata": {},
   "outputs": [
    {
     "data": {
      "text/plain": [
       "DeltaGenerator()"
      ]
     },
     "execution_count": 3,
     "metadata": {},
     "output_type": "execute_result"
    }
   ],
   "source": [
    "# Definindo título e cabeçalhos para a Home Page\n",
    "st.title(\"Análise Gráfica de Ações em Tempo Real\")\n",
    "st.header(\"Ações\")\n",
    "st.subheader(\"Análise Gráfica\")"
   ]
  },
  {
   "cell_type": "code",
   "execution_count": 4,
   "metadata": {},
   "outputs": [
    {
     "name": "stderr",
     "output_type": "stream",
     "text": [
      "2024-08-12 09:49:36.998 No runtime found, using MemoryCacheStorageManager\n"
     ]
    }
   ],
   "source": [
    "#função para definir o tempo de atualização da página que visa permitir\n",
    "#a análise em tempo real\n",
    "count = st_autorefresh(interval=5000, limit=10000, key=\"fizzbuzzcounter\")\n",
    "\n",
    "# if count == 0:\n",
    "#     st.write(\"Count is zero\")\n",
    "# elif count % 3 == 0 and count % 5 == 0:\n",
    "#     st.write(\"FizzBuzz\")\n",
    "# elif count % 3 == 0:\n",
    "#     st.write(\"Fizz\")\n",
    "# elif count % 5 == 0:\n",
    "#     st.write(\"Buzz\")\n",
    "# else:\n",
    "#     st.write(f\"Count: {count}\")\n",
    "\n",
    "if from_date > to_date:\n",
    "    st.sidebar.error(\"A data inicial deve ser menor que a data final\")\n",
    "else:\n",
    "    df = consultar_acao(stock_select, format_date(from_date), format_date(to_date), interval_select)\n",
    "    try:\n",
    "        fig = plotCandleStick(df)\n",
    "        grafico_candle.plotly_chart(fig)\n",
    "        # grafico_line.line_chart(df[\"Close\"])\n",
    "        if carregar_dados:\n",
    "            st.subheader(\"Data\")\n",
    "            st.dataframe(df)\n",
    "    except Exception as e:\n",
    "        st.error(e)"
   ]
  },
  {
   "cell_type": "code",
   "execution_count": 13,
   "metadata": {},
   "outputs": [
    {
     "name": "stderr",
     "output_type": "stream",
     "text": [
      "[NbConvertApp] Converting notebook sprint3.ipynb to script\n",
      "[NbConvertApp] Writing 3647 bytes to sprint3.py\n"
     ]
    }
   ],
   "source": [
    "#convertendo o script do jupyter notebook para python\n",
    "!jupyter nbconvert --to script sprint3.ipynb"
   ]
  }
 ],
 "metadata": {
  "kernelspec": {
   "display_name": "base",
   "language": "python",
   "name": "python3"
  },
  "language_info": {
   "codemirror_mode": {
    "name": "ipython",
    "version": 3
   },
   "file_extension": ".py",
   "mimetype": "text/x-python",
   "name": "python",
   "nbconvert_exporter": "python",
   "pygments_lexer": "ipython3",
   "version": "3.11.7"
  }
 },
 "nbformat": 4,
 "nbformat_minor": 2
}
