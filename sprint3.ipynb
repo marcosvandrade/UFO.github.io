{
 "cells": [
  {
   "cell_type": "markdown",
   "metadata": {},
   "source": [
    "#### SPRINT 3"
   ]
  },
  {
   "cell_type": "markdown",
   "metadata": {},
   "source": [
    "##### ETAPA 1 DO TRELLO - MELHORANDO A INTERFACE GRÁFICA"
   ]
  },
  {
   "cell_type": "code",
   "execution_count": 6,
   "metadata": {},
   "outputs": [
    {
     "name": "stderr",
     "output_type": "stream",
     "text": [
      "2024-08-12 10:00:53.980 No runtime found, using MemoryCacheStorageManager\n"
     ]
    }
   ],
   "source": [
    "# Importando as bibliotecas necessárias\n",
    "import yfinance as yf\n",
    "import streamlit as st\n",
    "from streamlit_autorefresh import st_autorefresh\n",
    "import plotly.graph_objs as go\n",
    "from datetime import datetime, timedelta\n",
    "\n",
    "# Criando listas de países, principais ações e intervalos de tempo\n",
    "countries = [\"Brazil\", \"United States\"]\n",
    "intervals = [\"1d\", \"1wk\", \"1mo\"]\n",
    "\n",
    "brazil_stocks = [\n",
    "    \"ABEV3.SA\", \"B3SA3.SA\", \"BBAS3.SA\", \"BBDC3.SA\", \"BBDC4.SA\", \"BBSE3.SA\",\n",
    "    \"BEEF3.SA\", \"BRAP4.SA\", \"BRFS3.SA\", \"BRKM5.SA\", \"BRML3.SA\", \"BTOW3.SA\",\n",
    "    \"CCRO3.SA\", \"CIEL3.SA\", \"CMIG4.SA\", \"COGN3.SA\", \"CPFE3.SA\", \"CPLE6.SA\",\n",
    "    \"CSAN3.SA\", \"CSNA3.SA\", \"CVCB3.SA\", \"CYRE3.SA\", \"ECOR3.SA\", \"EGIE3.SA\",\n",
    "    \"ELET3.SA\", \"ELET6.SA\", \"EMBR3.SA\", \"ENBR3.SA\", \"ENGI11.SA\", \"EQTL3.SA\",\n",
    "    \"EZTC3.SA\", \"FLRY3.SA\", \"GGBR4.SA\", \"GOAU4.SA\", \"GOLL4.SA\", \"HAPV3.SA\",\n",
    "    \"HGTX3.SA\", \"HYPE3.SA\", \"IGTA3.SA\", \"IRBR3.SA\", \"ITSA4.SA\", \"ITUB4.SA\",\n",
    "    \"JBSS3.SA\", \"KLBN11.SA\", \"LAME4.SA\", \"LIGT3.SA\", \"LINX3.SA\", \"LREN3.SA\",\n",
    "    \"MGLU3.SA\", \"MRFG3.SA\", \"MRVE3.SA\", \"MULT3.SA\", \"NTCO3.SA\", \"PCAR3.SA\",\n",
    "    \"PETR3.SA\", \"PETR4.SA\", \"QUAL3.SA\", \"RADL3.SA\", \"RAIL3.SA\", \"RENT3.SA\",\n",
    "    \"SANB11.SA\", \"SBSP3.SA\", \"SULA11.SA\", \"SUZB3.SA\", \"TAEE11.SA\", \"TIMP3.SA\",\n",
    "    \"TOTS3.SA\", \"UGPA3.SA\", \"USIM5.SA\", \"VALE3.SA\", \"VIVT3.SA\", \"VVAR3.SA\",\n",
    "    \"WEGE3.SA\", \"YDUQ3.SA\"\n",
    "]\n",
    "\n",
    "us_stocks = [\n",
    "    \"AAPL\", \"MSFT\", \"GOOGL\", \"AMZN\", \"FB\", \"TSLA\", \"NVDA\", \"AMD\", \"NFLX\", \"BABA\",\n",
    "    \"PYPL\", \"INTC\", \"CSCO\", \"ADBE\", \"CMCSA\", \"PFE\", \"JNJ\", \"MRNA\", \"BA\", \"DIS\",\n",
    "    \"T\", \"VZ\", \"WMT\", \"XOM\", \"CVX\", \"PG\", \"KO\", \"PEP\", \"MCD\", \"NKE\", \"V\", \"MA\",\n",
    "    \"JPM\", \"BAC\", \"C\", \"GS\", \"MS\", \"AMGN\", \"GILD\", \"CRM\", \"SQ\", \"UBER\", \"LYFT\",\n",
    "    \"SPCE\", \"NKLA\", \"PLTR\", \"SNOW\", \"NIO\", \"XPEV\", \"LI\", \"ARKK\", \"SPY\", \"QQQ\",\n",
    "    \"DIA\", \"IWM\", \"GME\", \"AMC\", \"BB\", \"NOK\", \"TLRY\", \"CGC\", \"ACB\", \"ZNGA\", \"SIRI\",\n",
    "    \"EBAY\", \"TWTR\", \"ROKU\", \"PINS\", \"UBER\", \"LYFT\"\n",
    "]\n",
    "\n",
    "# Criando um dicionário para associar a lista de ações ao país selecionado\n",
    "stock_options = {\"United States\": us_stocks, \"Brazil\": brazil_stocks}\n",
    "\n",
    "# Função de cache do Streamlit para evitar redundância de dados\n",
    "@st.cache_data()\n",
    "def consultar_acao(stock, from_date, to_date, interval):\n",
    "    return yf.download(stock, start=from_date, end=to_date, interval=interval, progress=False)\n",
    "\n",
    "# Função para exibição dos gráficos\n",
    "def plotCandleStick(df, acao=\"ticket\"):\n",
    "    trace1 = {\n",
    "        \"x\": df.index,\n",
    "        \"open\": df[\"Open\"],\n",
    "        \"close\": df[\"Close\"],\n",
    "        \"high\": df[\"High\"],\n",
    "        \"low\": df[\"Low\"],\n",
    "        \"type\": \"candlestick\",\n",
    "        \"name\": acao,\n",
    "        \"showlegend\": False,\n",
    "    }\n",
    "    data = [trace1]\n",
    "    layout = go.Layout()\n",
    "    return go.Figure(data=data, layout=layout)"
   ]
  },
  {
   "cell_type": "markdown",
   "metadata": {},
   "source": [
    "##### Aplicando melhorias na barra lateral"
   ]
  },
  {
   "cell_type": "code",
   "execution_count": 7,
   "metadata": {},
   "outputs": [],
   "source": [
    "# Aplicando melhorias na barra lateral\n",
    "barra_lateral = st.sidebar.empty()\n",
    "\n",
    "# Atualizando a barra lateral para listar as ações de acordo com o país selecionado\n",
    "country_select = st.sidebar.selectbox(\"Escolha o país:\", countries)\n",
    "stocks = stock_options[country_select]  # Obtém as ações do país selecionado\n",
    "stock_select = st.sidebar.selectbox(\"Selecione a ação:\", stocks)\n",
    "\n",
    "# Criando o filtro para o usuário selecionar o intervalo de pesquisa desejado\n",
    "start_date = datetime.now() - timedelta(days=30)\n",
    "end_date = datetime.now()\n",
    "\n",
    "from_date = st.sidebar.date_input(\"Data Inicial:\", start_date.date())\n",
    "to_date = st.sidebar.date_input(\"Data Final:\", end_date.date())\n",
    "\n",
    "# Formata as datas no formato brasileiro (DD/MM/YYYY) apenas para exibição\n",
    "formatted_start_date = from_date.strftime(\"%d/%m/%Y\")\n",
    "formatted_end_date = to_date.strftime(\"%d/%m/%Y\")\n",
    "st.write(f\"Data Inicial: {formatted_start_date}\")\n",
    "st.write(f\"Data Final: {formatted_end_date}\")\n",
    "\n",
    "# Criando o restante da barra lateral\n",
    "interval_select = st.sidebar.selectbox(\n",
    "    \"Escolha o intervalo de tempo desejado (d - dia wk - semana mo - mês):\", intervals\n",
    ")\n",
    "carregar_dados = st.sidebar.checkbox(\"Carregar Dados\")"
   ]
  },
  {
   "cell_type": "code",
   "execution_count": 3,
   "metadata": {},
   "outputs": [
    {
     "data": {
      "text/plain": [
       "DeltaGenerator()"
      ]
     },
     "execution_count": 3,
     "metadata": {},
     "output_type": "execute_result"
    }
   ],
   "source": [
    "# Exibindo o título com tamanho de fonte personalizado\n",
    "st.markdown(\n",
    "    \"<h1 style='font-size: 24px;'>Análise Gráfica de Ações em Tempo Real</h1>\",\n",
    "    unsafe_allow_html=True,\n",
    ")"
   ]
  },
  {
   "cell_type": "code",
   "execution_count": 4,
   "metadata": {},
   "outputs": [
    {
     "name": "stderr",
     "output_type": "stream",
     "text": [
      "2024-08-12 09:49:36.998 No runtime found, using MemoryCacheStorageManager\n"
     ]
    }
   ],
   "source": [
    "# Função para definir o tempo de atualização da página que visa permitir a análise em tempo real\n",
    "count = st_autorefresh(interval=5000, limit=10000, key=\"fizzbuzzcounter\")\n",
    "\n",
    "# Verificação de datas e exibição de gráficos\n",
    "if from_date > to_date:\n",
    "    st.sidebar.error(\"A data inicial deve ser menor que a data final\")\n",
    "else:\n",
    "    df = consultar_acao(stock_select, from_date.strftime(\"%Y-%m-%d\"), to_date.strftime(\"%Y-%m-%d\"), interval_select)\n",
    "    \n",
    "    try:\n",
    "        fig = plotCandleStick(df)\n",
    "        grafico_candle = st.empty()\n",
    "        grafico_candle.plotly_chart(fig)\n",
    "        \n",
    "        if carregar_dados:\n",
    "            st.subheader(\"Data\")\n",
    "            st.dataframe(df)\n",
    "    except Exception as e:\n",
    "        st.error(e)"
   ]
  },
  {
   "cell_type": "code",
   "execution_count": 14,
   "metadata": {},
   "outputs": [
    {
     "name": "stderr",
     "output_type": "stream",
     "text": [
      "[NbConvertApp] Converting notebook sprint3.ipynb to script\n",
      "[NbConvertApp] Writing 5041 bytes to sprint3.py\n"
     ]
    }
   ],
   "source": [
    "#convertendo o script do jupyter notebook para python\n",
    "!jupyter nbconvert --to script sprint3.ipynb"
   ]
  }
 ],
 "metadata": {
  "kernelspec": {
   "display_name": "base",
   "language": "python",
   "name": "python3"
  },
  "language_info": {
   "codemirror_mode": {
    "name": "ipython",
    "version": 3
   },
   "file_extension": ".py",
   "mimetype": "text/x-python",
   "name": "python",
   "nbconvert_exporter": "python",
   "pygments_lexer": "ipython3",
   "version": "3.11.7"
  }
 },
 "nbformat": 4,
 "nbformat_minor": 2
}
